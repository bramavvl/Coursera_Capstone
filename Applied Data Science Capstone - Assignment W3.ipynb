{
 "cells": [
  {
   "cell_type": "markdown",
   "metadata": {},
   "source": [
    "# Applied Data Science Capstone - Assignment W3\n"
   ]
  },
  {
   "cell_type": "markdown",
   "metadata": {},
   "source": [
    "### Bram Adrianus"
   ]
  },
  {
   "cell_type": "markdown",
   "metadata": {},
   "source": [
    "## Problem 1"
   ]
  },
  {
   "cell_type": "markdown",
   "metadata": {},
   "source": [
    "For this assignment, you will be required to explore and cluster the neighborhoods in Toronto.\n",
    "\n",
    "1. Start by creating a new Notebook for this assignment.\n",
    "2. Use the Notebook to build the code to scrape the following Wikipedia page, https://en.wikipedia.org/wiki/List_of_postal_codes_of_Canada:_M, in order to obtain the data that is in the table of postal codes and to transform the data into a pandas dataframe like the one shown below:\n",
    "\n",
    "<img src=\"https://d3c33hcgiwev3.cloudfront.net/imageAssetProxy.v1/7JXaz3NNEeiMwApe4i-fLg_40e690ae0e927abda2d4bde7d94ed133_Screen-Shot-2018-06-18-at-7.17.57-PM.png?expiry=1595376000000&hmac=orA2rce6iu9VOZiz7TRZZ6B2Zan0N0Ba6wk3k2wLBlg\" alt=\"Alt text that describes the graphic\" title=\"Title text\" />\n",
    "\n",
    "3. To create the above dataframe: \n",
    "    - The dataframe will consist of three columns: PostalCode, Borough, and Neighborhood\n",
    "    - Only process the cells that have an assigned borough. Ignore cells with a borough that is Not assigned.\n",
    "    - More than one neighborhood can exist in one postal code area. For example, in the table on the Wikipedia page, you will notice that M5A is listed twice and has two neighborhoods: Harbourfront and Regent Park. These two rows will be combined into one row with the neighborhoods separated with a comma as shown in row 11 in the above table.\n",
    "    - If a cell has a borough but a Not assigned neighborhood, then the neighborhood will be the same as the borough.\n",
    "    - Clean your Notebook and add Markdown cells to explain your work and any assumptions you are making.\n",
    "    - In the last cell of your notebook, use the .shape method to print the number of rows of your dataframe.\n",
    "4. Submit a link to your Notebook on your Github repository. (10 marks)"
   ]
  },
  {
   "cell_type": "markdown",
   "metadata": {},
   "source": [
    "## Solution to Problem 1"
   ]
  },
  {
   "cell_type": "code",
   "execution_count": 68,
   "metadata": {},
   "outputs": [],
   "source": [
    "import pandas as pd\n",
    "pd.set_option('display.max_columns', None)\n",
    "pd.set_option('display.max_rows', None)"
   ]
  },
  {
   "cell_type": "markdown",
   "metadata": {},
   "source": [
    "Load the dataset"
   ]
  },
  {
   "cell_type": "code",
   "execution_count": 41,
   "metadata": {},
   "outputs": [
    {
     "name": "stdout",
     "output_type": "stream",
     "text": [
      "3\n"
     ]
    }
   ],
   "source": [
    "url = 'https://en.wikipedia.org/wiki/List_of_postal_codes_of_Canada:_M'\n",
    "dfs = pd.read_html(url)\n",
    "\n",
    "#check number of tables loaded\n",
    "print(len(dfs))"
   ]
  },
  {
   "cell_type": "code",
   "execution_count": 42,
   "metadata": {},
   "outputs": [
    {
     "data": {
      "text/html": [
       "<div>\n",
       "<style scoped>\n",
       "    .dataframe tbody tr th:only-of-type {\n",
       "        vertical-align: middle;\n",
       "    }\n",
       "\n",
       "    .dataframe tbody tr th {\n",
       "        vertical-align: top;\n",
       "    }\n",
       "\n",
       "    .dataframe thead th {\n",
       "        text-align: right;\n",
       "    }\n",
       "</style>\n",
       "<table border=\"1\" class=\"dataframe\">\n",
       "  <thead>\n",
       "    <tr style=\"text-align: right;\">\n",
       "      <th></th>\n",
       "      <th>Postal Code</th>\n",
       "      <th>Borough</th>\n",
       "      <th>Neighbourhood</th>\n",
       "    </tr>\n",
       "  </thead>\n",
       "  <tbody>\n",
       "    <tr>\n",
       "      <th>0</th>\n",
       "      <td>M1A</td>\n",
       "      <td>Not assigned</td>\n",
       "      <td>Not assigned</td>\n",
       "    </tr>\n",
       "    <tr>\n",
       "      <th>1</th>\n",
       "      <td>M2A</td>\n",
       "      <td>Not assigned</td>\n",
       "      <td>Not assigned</td>\n",
       "    </tr>\n",
       "    <tr>\n",
       "      <th>2</th>\n",
       "      <td>M3A</td>\n",
       "      <td>North York</td>\n",
       "      <td>Parkwoods</td>\n",
       "    </tr>\n",
       "    <tr>\n",
       "      <th>3</th>\n",
       "      <td>M4A</td>\n",
       "      <td>North York</td>\n",
       "      <td>Victoria Village</td>\n",
       "    </tr>\n",
       "    <tr>\n",
       "      <th>4</th>\n",
       "      <td>M5A</td>\n",
       "      <td>Downtown Toronto</td>\n",
       "      <td>Regent Park, Harbourfront</td>\n",
       "    </tr>\n",
       "  </tbody>\n",
       "</table>\n",
       "</div>"
      ],
      "text/plain": [
       "  Postal Code           Borough              Neighbourhood\n",
       "0         M1A      Not assigned               Not assigned\n",
       "1         M2A      Not assigned               Not assigned\n",
       "2         M3A        North York                  Parkwoods\n",
       "3         M4A        North York           Victoria Village\n",
       "4         M5A  Downtown Toronto  Regent Park, Harbourfront"
      ]
     },
     "execution_count": 42,
     "metadata": {},
     "output_type": "execute_result"
    }
   ],
   "source": [
    "dfs[0].head()"
   ]
  },
  {
   "cell_type": "markdown",
   "metadata": {},
   "source": [
    "Define the three dataset columns"
   ]
  },
  {
   "cell_type": "code",
   "execution_count": 43,
   "metadata": {},
   "outputs": [
    {
     "data": {
      "text/html": [
       "<div>\n",
       "<style scoped>\n",
       "    .dataframe tbody tr th:only-of-type {\n",
       "        vertical-align: middle;\n",
       "    }\n",
       "\n",
       "    .dataframe tbody tr th {\n",
       "        vertical-align: top;\n",
       "    }\n",
       "\n",
       "    .dataframe thead th {\n",
       "        text-align: right;\n",
       "    }\n",
       "</style>\n",
       "<table border=\"1\" class=\"dataframe\">\n",
       "  <thead>\n",
       "    <tr style=\"text-align: right;\">\n",
       "      <th></th>\n",
       "      <th>PostalCode</th>\n",
       "      <th>Borough</th>\n",
       "      <th>Neighborhood</th>\n",
       "    </tr>\n",
       "  </thead>\n",
       "  <tbody>\n",
       "    <tr>\n",
       "      <th>0</th>\n",
       "      <td>M1A</td>\n",
       "      <td>Not assigned</td>\n",
       "      <td>Not assigned</td>\n",
       "    </tr>\n",
       "    <tr>\n",
       "      <th>1</th>\n",
       "      <td>M2A</td>\n",
       "      <td>Not assigned</td>\n",
       "      <td>Not assigned</td>\n",
       "    </tr>\n",
       "    <tr>\n",
       "      <th>2</th>\n",
       "      <td>M3A</td>\n",
       "      <td>North York</td>\n",
       "      <td>Parkwoods</td>\n",
       "    </tr>\n",
       "    <tr>\n",
       "      <th>3</th>\n",
       "      <td>M4A</td>\n",
       "      <td>North York</td>\n",
       "      <td>Victoria Village</td>\n",
       "    </tr>\n",
       "    <tr>\n",
       "      <th>4</th>\n",
       "      <td>M5A</td>\n",
       "      <td>Downtown Toronto</td>\n",
       "      <td>Regent Park, Harbourfront</td>\n",
       "    </tr>\n",
       "  </tbody>\n",
       "</table>\n",
       "</div>"
      ],
      "text/plain": [
       "  PostalCode           Borough               Neighborhood\n",
       "0        M1A      Not assigned               Not assigned\n",
       "1        M2A      Not assigned               Not assigned\n",
       "2        M3A        North York                  Parkwoods\n",
       "3        M4A        North York           Victoria Village\n",
       "4        M5A  Downtown Toronto  Regent Park, Harbourfront"
      ]
     },
     "execution_count": 43,
     "metadata": {},
     "output_type": "execute_result"
    }
   ],
   "source": [
    "#Define dataframe with it's column names\n",
    "column_names = ['PostalCode','Borough','Neighborhood']\n",
    "df_toronto = dfs[0]\n",
    "df_toronto.columns = column_names\n",
    "df_toronto.head()"
   ]
  },
  {
   "cell_type": "markdown",
   "metadata": {},
   "source": [
    "Only process the cells that have an assigned borough. Ignore cells with a borough that is Not assigned."
   ]
  },
  {
   "cell_type": "code",
   "execution_count": 44,
   "metadata": {},
   "outputs": [
    {
     "data": {
      "text/html": [
       "<div>\n",
       "<style scoped>\n",
       "    .dataframe tbody tr th:only-of-type {\n",
       "        vertical-align: middle;\n",
       "    }\n",
       "\n",
       "    .dataframe tbody tr th {\n",
       "        vertical-align: top;\n",
       "    }\n",
       "\n",
       "    .dataframe thead th {\n",
       "        text-align: right;\n",
       "    }\n",
       "</style>\n",
       "<table border=\"1\" class=\"dataframe\">\n",
       "  <thead>\n",
       "    <tr style=\"text-align: right;\">\n",
       "      <th></th>\n",
       "      <th>PostalCode</th>\n",
       "      <th>Borough</th>\n",
       "      <th>Neighborhood</th>\n",
       "    </tr>\n",
       "  </thead>\n",
       "  <tbody>\n",
       "    <tr>\n",
       "      <th>0</th>\n",
       "      <td>M3A</td>\n",
       "      <td>North York</td>\n",
       "      <td>Parkwoods</td>\n",
       "    </tr>\n",
       "    <tr>\n",
       "      <th>1</th>\n",
       "      <td>M4A</td>\n",
       "      <td>North York</td>\n",
       "      <td>Victoria Village</td>\n",
       "    </tr>\n",
       "    <tr>\n",
       "      <th>2</th>\n",
       "      <td>M5A</td>\n",
       "      <td>Downtown Toronto</td>\n",
       "      <td>Regent Park, Harbourfront</td>\n",
       "    </tr>\n",
       "    <tr>\n",
       "      <th>3</th>\n",
       "      <td>M6A</td>\n",
       "      <td>North York</td>\n",
       "      <td>Lawrence Manor, Lawrence Heights</td>\n",
       "    </tr>\n",
       "    <tr>\n",
       "      <th>4</th>\n",
       "      <td>M7A</td>\n",
       "      <td>Downtown Toronto</td>\n",
       "      <td>Queen's Park, Ontario Provincial Government</td>\n",
       "    </tr>\n",
       "  </tbody>\n",
       "</table>\n",
       "</div>"
      ],
      "text/plain": [
       "  PostalCode           Borough                                 Neighborhood\n",
       "0        M3A        North York                                    Parkwoods\n",
       "1        M4A        North York                             Victoria Village\n",
       "2        M5A  Downtown Toronto                    Regent Park, Harbourfront\n",
       "3        M6A        North York             Lawrence Manor, Lawrence Heights\n",
       "4        M7A  Downtown Toronto  Queen's Park, Ontario Provincial Government"
      ]
     },
     "execution_count": 44,
     "metadata": {},
     "output_type": "execute_result"
    }
   ],
   "source": [
    "df_toronto = df_toronto[df_toronto['Borough'] != 'Not assigned'].reset_index(drop=True)\n",
    "df_toronto.head()"
   ]
  },
  {
   "cell_type": "markdown",
   "metadata": {},
   "source": [
    "Checking if there's any 'Not assigned' neigborhood or missing."
   ]
  },
  {
   "cell_type": "code",
   "execution_count": 45,
   "metadata": {},
   "outputs": [
    {
     "data": {
      "text/plain": [
       "[]"
      ]
     },
     "execution_count": 45,
     "metadata": {},
     "output_type": "execute_result"
    }
   ],
   "source": [
    "df_toronto.columns[df_toronto.isna().any()].tolist()"
   ]
  },
  {
   "cell_type": "code",
   "execution_count": 46,
   "metadata": {},
   "outputs": [
    {
     "data": {
      "text/html": [
       "<div>\n",
       "<style scoped>\n",
       "    .dataframe tbody tr th:only-of-type {\n",
       "        vertical-align: middle;\n",
       "    }\n",
       "\n",
       "    .dataframe tbody tr th {\n",
       "        vertical-align: top;\n",
       "    }\n",
       "\n",
       "    .dataframe thead th {\n",
       "        text-align: right;\n",
       "    }\n",
       "</style>\n",
       "<table border=\"1\" class=\"dataframe\">\n",
       "  <thead>\n",
       "    <tr style=\"text-align: right;\">\n",
       "      <th></th>\n",
       "      <th>PostalCode</th>\n",
       "      <th>Borough</th>\n",
       "      <th>Neighborhood</th>\n",
       "    </tr>\n",
       "  </thead>\n",
       "  <tbody>\n",
       "  </tbody>\n",
       "</table>\n",
       "</div>"
      ],
      "text/plain": [
       "Empty DataFrame\n",
       "Columns: [PostalCode, Borough, Neighborhood]\n",
       "Index: []"
      ]
     },
     "execution_count": 46,
     "metadata": {},
     "output_type": "execute_result"
    }
   ],
   "source": [
    "df_toronto[df_toronto['Neighborhood'] == 'Not assigned']"
   ]
  },
  {
   "cell_type": "markdown",
   "metadata": {},
   "source": [
    "So, there is no missing value in the dataframe, ans also the 'Not assigned' values has been handled.\n",
    "\n",
    "Last is to use the .shape method to print the number of rows of your dataframe"
   ]
  },
  {
   "cell_type": "code",
   "execution_count": 47,
   "metadata": {},
   "outputs": [
    {
     "data": {
      "text/plain": [
       "(103, 3)"
      ]
     },
     "execution_count": 47,
     "metadata": {},
     "output_type": "execute_result"
    }
   ],
   "source": [
    "df_toronto.shape"
   ]
  },
  {
   "cell_type": "code",
   "execution_count": 66,
   "metadata": {},
   "outputs": [
    {
     "name": "stdout",
     "output_type": "stream",
     "text": [
      "The dataframe has 10 boroughs and 103 neighborhoods.\n"
     ]
    }
   ],
   "source": [
    "print('The dataframe has {} boroughs and {} neighborhoods.'.format(\n",
    "        len(df_toronto['Borough'].unique()),\n",
    "        df_toronto.shape[0]\n",
    "    )\n",
    ")"
   ]
  },
  {
   "cell_type": "markdown",
   "metadata": {},
   "source": [
    "## Solution to Problem 2"
   ]
  },
  {
   "cell_type": "markdown",
   "metadata": {},
   "source": [
    "As the Google Maps API is not working, we will use offline geospatial data provided on http://cocl.us/Geospatial_data"
   ]
  },
  {
   "cell_type": "code",
   "execution_count": 60,
   "metadata": {},
   "outputs": [
    {
     "data": {
      "text/html": [
       "<div>\n",
       "<style scoped>\n",
       "    .dataframe tbody tr th:only-of-type {\n",
       "        vertical-align: middle;\n",
       "    }\n",
       "\n",
       "    .dataframe tbody tr th {\n",
       "        vertical-align: top;\n",
       "    }\n",
       "\n",
       "    .dataframe thead th {\n",
       "        text-align: right;\n",
       "    }\n",
       "</style>\n",
       "<table border=\"1\" class=\"dataframe\">\n",
       "  <thead>\n",
       "    <tr style=\"text-align: right;\">\n",
       "      <th></th>\n",
       "      <th>Postal Code</th>\n",
       "      <th>Latitude</th>\n",
       "      <th>Longitude</th>\n",
       "    </tr>\n",
       "  </thead>\n",
       "  <tbody>\n",
       "    <tr>\n",
       "      <th>0</th>\n",
       "      <td>M1B</td>\n",
       "      <td>43.806686</td>\n",
       "      <td>-79.194353</td>\n",
       "    </tr>\n",
       "    <tr>\n",
       "      <th>1</th>\n",
       "      <td>M1C</td>\n",
       "      <td>43.784535</td>\n",
       "      <td>-79.160497</td>\n",
       "    </tr>\n",
       "    <tr>\n",
       "      <th>2</th>\n",
       "      <td>M1E</td>\n",
       "      <td>43.763573</td>\n",
       "      <td>-79.188711</td>\n",
       "    </tr>\n",
       "    <tr>\n",
       "      <th>3</th>\n",
       "      <td>M1G</td>\n",
       "      <td>43.770992</td>\n",
       "      <td>-79.216917</td>\n",
       "    </tr>\n",
       "    <tr>\n",
       "      <th>4</th>\n",
       "      <td>M1H</td>\n",
       "      <td>43.773136</td>\n",
       "      <td>-79.239476</td>\n",
       "    </tr>\n",
       "  </tbody>\n",
       "</table>\n",
       "</div>"
      ],
      "text/plain": [
       "  Postal Code   Latitude  Longitude\n",
       "0         M1B  43.806686 -79.194353\n",
       "1         M1C  43.784535 -79.160497\n",
       "2         M1E  43.763573 -79.188711\n",
       "3         M1G  43.770992 -79.216917\n",
       "4         M1H  43.773136 -79.239476"
      ]
     },
     "execution_count": 60,
     "metadata": {},
     "output_type": "execute_result"
    }
   ],
   "source": [
    "geo_url = 'http://cocl.us/Geospatial_data'\n",
    "df_geo = pd.read_csv(geo_url)\n",
    "df_geo.head()"
   ]
  },
  {
   "cell_type": "markdown",
   "metadata": {},
   "source": [
    "Join geospatial data with Toronto dataframe to get the result"
   ]
  },
  {
   "cell_type": "code",
   "execution_count": 71,
   "metadata": {
    "scrolled": true
   },
   "outputs": [
    {
     "data": {
      "text/html": [
       "<div>\n",
       "<style scoped>\n",
       "    .dataframe tbody tr th:only-of-type {\n",
       "        vertical-align: middle;\n",
       "    }\n",
       "\n",
       "    .dataframe tbody tr th {\n",
       "        vertical-align: top;\n",
       "    }\n",
       "\n",
       "    .dataframe thead th {\n",
       "        text-align: right;\n",
       "    }\n",
       "</style>\n",
       "<table border=\"1\" class=\"dataframe\">\n",
       "  <thead>\n",
       "    <tr style=\"text-align: right;\">\n",
       "      <th></th>\n",
       "      <th>PostalCode</th>\n",
       "      <th>Borough</th>\n",
       "      <th>Neighborhood</th>\n",
       "      <th>Latitude</th>\n",
       "      <th>Longitude</th>\n",
       "    </tr>\n",
       "  </thead>\n",
       "  <tbody>\n",
       "    <tr>\n",
       "      <th>0</th>\n",
       "      <td>M3A</td>\n",
       "      <td>North York</td>\n",
       "      <td>Parkwoods</td>\n",
       "      <td>43.753259</td>\n",
       "      <td>-79.329656</td>\n",
       "    </tr>\n",
       "    <tr>\n",
       "      <th>1</th>\n",
       "      <td>M4A</td>\n",
       "      <td>North York</td>\n",
       "      <td>Victoria Village</td>\n",
       "      <td>43.725882</td>\n",
       "      <td>-79.315572</td>\n",
       "    </tr>\n",
       "    <tr>\n",
       "      <th>2</th>\n",
       "      <td>M5A</td>\n",
       "      <td>Downtown Toronto</td>\n",
       "      <td>Regent Park, Harbourfront</td>\n",
       "      <td>43.654260</td>\n",
       "      <td>-79.360636</td>\n",
       "    </tr>\n",
       "    <tr>\n",
       "      <th>3</th>\n",
       "      <td>M6A</td>\n",
       "      <td>North York</td>\n",
       "      <td>Lawrence Manor, Lawrence Heights</td>\n",
       "      <td>43.718518</td>\n",
       "      <td>-79.464763</td>\n",
       "    </tr>\n",
       "    <tr>\n",
       "      <th>4</th>\n",
       "      <td>M7A</td>\n",
       "      <td>Downtown Toronto</td>\n",
       "      <td>Queen's Park, Ontario Provincial Government</td>\n",
       "      <td>43.662301</td>\n",
       "      <td>-79.389494</td>\n",
       "    </tr>\n",
       "  </tbody>\n",
       "</table>\n",
       "</div>"
      ],
      "text/plain": [
       "  PostalCode           Borough                                 Neighborhood  \\\n",
       "0        M3A        North York                                    Parkwoods   \n",
       "1        M4A        North York                             Victoria Village   \n",
       "2        M5A  Downtown Toronto                    Regent Park, Harbourfront   \n",
       "3        M6A        North York             Lawrence Manor, Lawrence Heights   \n",
       "4        M7A  Downtown Toronto  Queen's Park, Ontario Provincial Government   \n",
       "\n",
       "    Latitude  Longitude  \n",
       "0  43.753259 -79.329656  \n",
       "1  43.725882 -79.315572  \n",
       "2  43.654260 -79.360636  \n",
       "3  43.718518 -79.464763  \n",
       "4  43.662301 -79.389494  "
      ]
     },
     "execution_count": 71,
     "metadata": {},
     "output_type": "execute_result"
    }
   ],
   "source": [
    "df_tor_geo = df_toronto.set_index('PostalCode').join(df_geo.set_index('Postal Code')).reset_index()\n",
    "df_tor_geo.head()"
   ]
  },
  {
   "cell_type": "markdown",
   "metadata": {},
   "source": [
    "## Solution to Problem 3"
   ]
  },
  {
   "cell_type": "code",
   "execution_count": 69,
   "metadata": {},
   "outputs": [],
   "source": [
    "from geopy.geocoders import Nominatim\n",
    "import folium"
   ]
  },
  {
   "cell_type": "markdown",
   "metadata": {},
   "source": [
    "First, I will check list of Borough that I want to explore"
   ]
  },
  {
   "cell_type": "code",
   "execution_count": 75,
   "metadata": {},
   "outputs": [
    {
     "data": {
      "text/plain": [
       "array(['North York', 'Downtown Toronto', 'Etobicoke', 'Scarborough',\n",
       "       'East York', 'York', 'East Toronto', 'West Toronto',\n",
       "       'Central Toronto', 'Mississauga'], dtype=object)"
      ]
     },
     "execution_count": 75,
     "metadata": {},
     "output_type": "execute_result"
    }
   ],
   "source": [
    "df_tor_geo['Borough'].unique()"
   ]
  },
  {
   "cell_type": "markdown",
   "metadata": {},
   "source": [
    "I decided to go with Borough containing 'York' and define new dataframe"
   ]
  },
  {
   "cell_type": "code",
   "execution_count": 82,
   "metadata": {},
   "outputs": [
    {
     "data": {
      "text/html": [
       "<div>\n",
       "<style scoped>\n",
       "    .dataframe tbody tr th:only-of-type {\n",
       "        vertical-align: middle;\n",
       "    }\n",
       "\n",
       "    .dataframe tbody tr th {\n",
       "        vertical-align: top;\n",
       "    }\n",
       "\n",
       "    .dataframe thead th {\n",
       "        text-align: right;\n",
       "    }\n",
       "</style>\n",
       "<table border=\"1\" class=\"dataframe\">\n",
       "  <thead>\n",
       "    <tr style=\"text-align: right;\">\n",
       "      <th></th>\n",
       "      <th>PostalCode</th>\n",
       "      <th>Borough</th>\n",
       "      <th>Neighborhood</th>\n",
       "      <th>Latitude</th>\n",
       "      <th>Longitude</th>\n",
       "    </tr>\n",
       "  </thead>\n",
       "  <tbody>\n",
       "    <tr>\n",
       "      <th>0</th>\n",
       "      <td>M3A</td>\n",
       "      <td>North York</td>\n",
       "      <td>Parkwoods</td>\n",
       "      <td>43.753259</td>\n",
       "      <td>-79.329656</td>\n",
       "    </tr>\n",
       "    <tr>\n",
       "      <th>1</th>\n",
       "      <td>M4A</td>\n",
       "      <td>North York</td>\n",
       "      <td>Victoria Village</td>\n",
       "      <td>43.725882</td>\n",
       "      <td>-79.315572</td>\n",
       "    </tr>\n",
       "    <tr>\n",
       "      <th>3</th>\n",
       "      <td>M6A</td>\n",
       "      <td>North York</td>\n",
       "      <td>Lawrence Manor, Lawrence Heights</td>\n",
       "      <td>43.718518</td>\n",
       "      <td>-79.464763</td>\n",
       "    </tr>\n",
       "    <tr>\n",
       "      <th>7</th>\n",
       "      <td>M3B</td>\n",
       "      <td>North York</td>\n",
       "      <td>Don Mills</td>\n",
       "      <td>43.745906</td>\n",
       "      <td>-79.352188</td>\n",
       "    </tr>\n",
       "    <tr>\n",
       "      <th>8</th>\n",
       "      <td>M4B</td>\n",
       "      <td>East York</td>\n",
       "      <td>Parkview Hill, Woodbine Gardens</td>\n",
       "      <td>43.706397</td>\n",
       "      <td>-79.309937</td>\n",
       "    </tr>\n",
       "  </tbody>\n",
       "</table>\n",
       "</div>"
      ],
      "text/plain": [
       "  PostalCode     Borough                      Neighborhood   Latitude  \\\n",
       "0        M3A  North York                         Parkwoods  43.753259   \n",
       "1        M4A  North York                  Victoria Village  43.725882   \n",
       "3        M6A  North York  Lawrence Manor, Lawrence Heights  43.718518   \n",
       "7        M3B  North York                         Don Mills  43.745906   \n",
       "8        M4B   East York   Parkview Hill, Woodbine Gardens  43.706397   \n",
       "\n",
       "   Longitude  \n",
       "0 -79.329656  \n",
       "1 -79.315572  \n",
       "3 -79.464763  \n",
       "7 -79.352188  \n",
       "8 -79.309937  "
      ]
     },
     "execution_count": 82,
     "metadata": {},
     "output_type": "execute_result"
    }
   ],
   "source": [
    "df_york = df_tor_geo[df_tor_geo['Borough'].str.contains('York')]\n",
    "df_york.head()"
   ]
  },
  {
   "cell_type": "markdown",
   "metadata": {},
   "source": [
    "In order to define an instance of the geocoder, we need to define a user_agent. We will name our agent toronto, as shown below."
   ]
  },
  {
   "cell_type": "code",
   "execution_count": 70,
   "metadata": {},
   "outputs": [
    {
     "name": "stdout",
     "output_type": "stream",
     "text": [
      "The geograpical coordinate of Toronto are 43.6534817, -79.3839347.\n"
     ]
    }
   ],
   "source": [
    "address = 'Toronto, CA'\n",
    "\n",
    "geolocator = Nominatim(user_agent=\"toronto\")\n",
    "location = geolocator.geocode(address)\n",
    "latitude = location.latitude\n",
    "longitude = location.longitude\n",
    "print('The geograpical coordinate of Toronto are {}, {}.'.format(latitude, longitude))"
   ]
  },
  {
   "cell_type": "markdown",
   "metadata": {},
   "source": [
    "Create a map of Toronto with neighborhoods superimposed on top from Borough containing 'York'."
   ]
  },
  {
   "cell_type": "code",
   "execution_count": 83,
   "metadata": {},
   "outputs": [
    {
     "data": {
      "text/html": [
       "<div style=\"width:100%;\"><div style=\"position:relative;width:100%;height:0;padding-bottom:60%;\"><span style=\"color:#565656\">Make this Notebook Trusted to load map: File -> Trust Notebook</span><iframe src=\"about:blank\" style=\"position:absolute;width:100%;height:100%;left:0;top:0;border:none !important;\" data-html=PCFET0NUWVBFIGh0bWw+CjxoZWFkPiAgICAKICAgIDxtZXRhIGh0dHAtZXF1aXY9ImNvbnRlbnQtdHlwZSIgY29udGVudD0idGV4dC9odG1sOyBjaGFyc2V0PVVURi04IiAvPgogICAgCiAgICAgICAgPHNjcmlwdD4KICAgICAgICAgICAgTF9OT19UT1VDSCA9IGZhbHNlOwogICAgICAgICAgICBMX0RJU0FCTEVfM0QgPSBmYWxzZTsKICAgICAgICA8L3NjcmlwdD4KICAgIAogICAgPHNjcmlwdCBzcmM9Imh0dHBzOi8vY2RuLmpzZGVsaXZyLm5ldC9ucG0vbGVhZmxldEAxLjYuMC9kaXN0L2xlYWZsZXQuanMiPjwvc2NyaXB0PgogICAgPHNjcmlwdCBzcmM9Imh0dHBzOi8vY29kZS5qcXVlcnkuY29tL2pxdWVyeS0xLjEyLjQubWluLmpzIj48L3NjcmlwdD4KICAgIDxzY3JpcHQgc3JjPSJodHRwczovL21heGNkbi5ib290c3RyYXBjZG4uY29tL2Jvb3RzdHJhcC8zLjIuMC9qcy9ib290c3RyYXAubWluLmpzIj48L3NjcmlwdD4KICAgIDxzY3JpcHQgc3JjPSJodHRwczovL2NkbmpzLmNsb3VkZmxhcmUuY29tL2FqYXgvbGlicy9MZWFmbGV0LmF3ZXNvbWUtbWFya2Vycy8yLjAuMi9sZWFmbGV0LmF3ZXNvbWUtbWFya2Vycy5qcyI+PC9zY3JpcHQ+CiAgICA8bGluayByZWw9InN0eWxlc2hlZXQiIGhyZWY9Imh0dHBzOi8vY2RuLmpzZGVsaXZyLm5ldC9ucG0vbGVhZmxldEAxLjYuMC9kaXN0L2xlYWZsZXQuY3NzIi8+CiAgICA8bGluayByZWw9InN0eWxlc2hlZXQiIGhyZWY9Imh0dHBzOi8vbWF4Y2RuLmJvb3RzdHJhcGNkbi5jb20vYm9vdHN0cmFwLzMuMi4wL2Nzcy9ib290c3RyYXAubWluLmNzcyIvPgogICAgPGxpbmsgcmVsPSJzdHlsZXNoZWV0IiBocmVmPSJodHRwczovL21heGNkbi5ib290c3RyYXBjZG4uY29tL2Jvb3RzdHJhcC8zLjIuMC9jc3MvYm9vdHN0cmFwLXRoZW1lLm1pbi5jc3MiLz4KICAgIDxsaW5rIHJlbD0ic3R5bGVzaGVldCIgaHJlZj0iaHR0cHM6Ly9tYXhjZG4uYm9vdHN0cmFwY2RuLmNvbS9mb250LWF3ZXNvbWUvNC42LjMvY3NzL2ZvbnQtYXdlc29tZS5taW4uY3NzIi8+CiAgICA8bGluayByZWw9InN0eWxlc2hlZXQiIGhyZWY9Imh0dHBzOi8vY2RuanMuY2xvdWRmbGFyZS5jb20vYWpheC9saWJzL0xlYWZsZXQuYXdlc29tZS1tYXJrZXJzLzIuMC4yL2xlYWZsZXQuYXdlc29tZS1tYXJrZXJzLmNzcyIvPgogICAgPGxpbmsgcmVsPSJzdHlsZXNoZWV0IiBocmVmPSJodHRwczovL3Jhd2Nkbi5naXRoYWNrLmNvbS9weXRob24tdmlzdWFsaXphdGlvbi9mb2xpdW0vbWFzdGVyL2ZvbGl1bS90ZW1wbGF0ZXMvbGVhZmxldC5hd2Vzb21lLnJvdGF0ZS5jc3MiLz4KICAgIDxzdHlsZT5odG1sLCBib2R5IHt3aWR0aDogMTAwJTtoZWlnaHQ6IDEwMCU7bWFyZ2luOiAwO3BhZGRpbmc6IDA7fTwvc3R5bGU+CiAgICA8c3R5bGU+I21hcCB7cG9zaXRpb246YWJzb2x1dGU7dG9wOjA7Ym90dG9tOjA7cmlnaHQ6MDtsZWZ0OjA7fTwvc3R5bGU+CiAgICAKICAgICAgICAgICAgPG1ldGEgbmFtZT0idmlld3BvcnQiIGNvbnRlbnQ9IndpZHRoPWRldmljZS13aWR0aCwKICAgICAgICAgICAgICAgIGluaXRpYWwtc2NhbGU9MS4wLCBtYXhpbXVtLXNjYWxlPTEuMCwgdXNlci1zY2FsYWJsZT1ubyIgLz4KICAgICAgICAgICAgPHN0eWxlPgogICAgICAgICAgICAgICAgI21hcF9jMTEzOGU3MDA3MDM0ZDY1ODE2ZDljODg5MmEzNWM1NyB7CiAgICAgICAgICAgICAgICAgICAgcG9zaXRpb246IHJlbGF0aXZlOwogICAgICAgICAgICAgICAgICAgIHdpZHRoOiAxMDAuMCU7CiAgICAgICAgICAgICAgICAgICAgaGVpZ2h0OiAxMDAuMCU7CiAgICAgICAgICAgICAgICAgICAgbGVmdDogMC4wJTsKICAgICAgICAgICAgICAgICAgICB0b3A6IDAuMCU7CiAgICAgICAgICAgICAgICB9CiAgICAgICAgICAgIDwvc3R5bGU+CiAgICAgICAgCjwvaGVhZD4KPGJvZHk+ICAgIAogICAgCiAgICAgICAgICAgIDxkaXYgY2xhc3M9ImZvbGl1bS1tYXAiIGlkPSJtYXBfYzExMzhlNzAwNzAzNGQ2NTgxNmQ5Yzg4OTJhMzVjNTciID48L2Rpdj4KICAgICAgICAKPC9ib2R5Pgo8c2NyaXB0PiAgICAKICAgIAogICAgICAgICAgICB2YXIgbWFwX2MxMTM4ZTcwMDcwMzRkNjU4MTZkOWM4ODkyYTM1YzU3ID0gTC5tYXAoCiAgICAgICAgICAgICAgICAibWFwX2MxMTM4ZTcwMDcwMzRkNjU4MTZkOWM4ODkyYTM1YzU3IiwKICAgICAgICAgICAgICAgIHsKICAgICAgICAgICAgICAgICAgICBjZW50ZXI6IFs0My42NTM0ODE3LCAtNzkuMzgzOTM0N10sCiAgICAgICAgICAgICAgICAgICAgY3JzOiBMLkNSUy5FUFNHMzg1NywKICAgICAgICAgICAgICAgICAgICB6b29tOiAxMCwKICAgICAgICAgICAgICAgICAgICB6b29tQ29udHJvbDogdHJ1ZSwKICAgICAgICAgICAgICAgICAgICBwcmVmZXJDYW52YXM6IGZhbHNlLAogICAgICAgICAgICAgICAgfQogICAgICAgICAgICApOwoKICAgICAgICAgICAgCgogICAgICAgIAogICAgCiAgICAgICAgICAgIHZhciB0aWxlX2xheWVyXzU1MzAyNjNmOWQ4MDQxOGJhNGU5ZGI1M2ZlNTBiMzcwID0gTC50aWxlTGF5ZXIoCiAgICAgICAgICAgICAgICAiaHR0cHM6Ly97c30udGlsZS5vcGVuc3RyZWV0bWFwLm9yZy97en0ve3h9L3t5fS5wbmciLAogICAgICAgICAgICAgICAgeyJhdHRyaWJ1dGlvbiI6ICJEYXRhIGJ5IFx1MDAyNmNvcHk7IFx1MDAzY2EgaHJlZj1cImh0dHA6Ly9vcGVuc3RyZWV0bWFwLm9yZ1wiXHUwMDNlT3BlblN0cmVldE1hcFx1MDAzYy9hXHUwMDNlLCB1bmRlciBcdTAwM2NhIGhyZWY9XCJodHRwOi8vd3d3Lm9wZW5zdHJlZXRtYXAub3JnL2NvcHlyaWdodFwiXHUwMDNlT0RiTFx1MDAzYy9hXHUwMDNlLiIsICJkZXRlY3RSZXRpbmEiOiBmYWxzZSwgIm1heE5hdGl2ZVpvb20iOiAxOCwgIm1heFpvb20iOiAxOCwgIm1pblpvb20iOiAwLCAibm9XcmFwIjogZmFsc2UsICJvcGFjaXR5IjogMSwgInN1YmRvbWFpbnMiOiAiYWJjIiwgInRtcyI6IGZhbHNlfQogICAgICAgICAgICApLmFkZFRvKG1hcF9jMTEzOGU3MDA3MDM0ZDY1ODE2ZDljODg5MmEzNWM1Nyk7CiAgICAgICAgCiAgICAKICAgICAgICAgICAgdmFyIGNpcmNsZV9tYXJrZXJfZGZhNDllYTQ0MzAwNGU1OGI0NzIwZjViNmE2ODIyNmIgPSBMLmNpcmNsZU1hcmtlcigKICAgICAgICAgICAgICAgIFs0My43NTMyNTg2LCAtNzkuMzI5NjU2NV0sCiAgICAgICAgICAgICAgICB7ImJ1YmJsaW5nTW91c2VFdmVudHMiOiB0cnVlLCAiY29sb3IiOiAiYmx1ZSIsICJkYXNoQXJyYXkiOiBudWxsLCAiZGFzaE9mZnNldCI6IG51bGwsICJmaWxsIjogdHJ1ZSwgImZpbGxDb2xvciI6ICIjMzE4NmNjIiwgImZpbGxPcGFjaXR5IjogMC43LCAiZmlsbFJ1bGUiOiAiZXZlbm9kZCIsICJsaW5lQ2FwIjogInJvdW5kIiwgImxpbmVKb2luIjogInJvdW5kIiwgIm9wYWNpdHkiOiAxLjAsICJyYWRpdXMiOiA1LCAic3Ryb2tlIjogdHJ1ZSwgIndlaWdodCI6IDN9CiAgICAgICAgICAgICkuYWRkVG8obWFwX2MxMTM4ZTcwMDcwMzRkNjU4MTZkOWM4ODkyYTM1YzU3KTsKICAgICAgICAKICAgIAogICAgICAgIHZhciBwb3B1cF85YmU5MDMxNTI4MDM0NzI3YWEzOTZkNGU3OTgzOGJmNCA9IEwucG9wdXAoeyJtYXhXaWR0aCI6ICIxMDAlIn0pOwoKICAgICAgICAKICAgICAgICAgICAgdmFyIGh0bWxfY2NiMGE2YjYxMjM5NDkxZDllMjgzMGRiNTIxZDQyYTMgPSAkKGA8ZGl2IGlkPSJodG1sX2NjYjBhNmI2MTIzOTQ5MWQ5ZTI4MzBkYjUyMWQ0MmEzIiBzdHlsZT0id2lkdGg6IDEwMC4wJTsgaGVpZ2h0OiAxMDAuMCU7Ij5QYXJrd29vZHMsIE5vcnRoIFlvcms8L2Rpdj5gKVswXTsKICAgICAgICAgICAgcG9wdXBfOWJlOTAzMTUyODAzNDcyN2FhMzk2ZDRlNzk4MzhiZjQuc2V0Q29udGVudChodG1sX2NjYjBhNmI2MTIzOTQ5MWQ5ZTI4MzBkYjUyMWQ0MmEzKTsKICAgICAgICAKCiAgICAgICAgY2lyY2xlX21hcmtlcl9kZmE0OWVhNDQzMDA0ZTU4YjQ3MjBmNWI2YTY4MjI2Yi5iaW5kUG9wdXAocG9wdXBfOWJlOTAzMTUyODAzNDcyN2FhMzk2ZDRlNzk4MzhiZjQpCiAgICAgICAgOwoKICAgICAgICAKICAgIAogICAgCiAgICAgICAgICAgIHZhciBjaXJjbGVfbWFya2VyXzU3N2YzODNjM2JjYTQ2MzI4YzE5NjYwZWE4YThmMDZiID0gTC5jaXJjbGVNYXJrZXIoCiAgICAgICAgICAgICAgICBbNDMuNzI1ODgyMjk5OTk5OTk1LCAtNzkuMzE1NTcxNTk5OTk5OThdLAogICAgICAgICAgICAgICAgeyJidWJibGluZ01vdXNlRXZlbnRzIjogdHJ1ZSwgImNvbG9yIjogImJsdWUiLCAiZGFzaEFycmF5IjogbnVsbCwgImRhc2hPZmZzZXQiOiBudWxsLCAiZmlsbCI6IHRydWUsICJmaWxsQ29sb3IiOiAiIzMxODZjYyIsICJmaWxsT3BhY2l0eSI6IDAuNywgImZpbGxSdWxlIjogImV2ZW5vZGQiLCAibGluZUNhcCI6ICJyb3VuZCIsICJsaW5lSm9pbiI6ICJyb3VuZCIsICJvcGFjaXR5IjogMS4wLCAicmFkaXVzIjogNSwgInN0cm9rZSI6IHRydWUsICJ3ZWlnaHQiOiAzfQogICAgICAgICAgICApLmFkZFRvKG1hcF9jMTEzOGU3MDA3MDM0ZDY1ODE2ZDljODg5MmEzNWM1Nyk7CiAgICAgICAgCiAgICAKICAgICAgICB2YXIgcG9wdXBfYmZlZDhlMDQ5ZDNlNGFlZjk0NDE1N2VjNjE5ZmM4ZTQgPSBMLnBvcHVwKHsibWF4V2lkdGgiOiAiMTAwJSJ9KTsKCiAgICAgICAgCiAgICAgICAgICAgIHZhciBodG1sXzkxMWMyMTFmYzQzZjQ5Y2RhY2UwZTZlYjJhZmM4NTU3ID0gJChgPGRpdiBpZD0iaHRtbF85MTFjMjExZmM0M2Y0OWNkYWNlMGU2ZWIyYWZjODU1NyIgc3R5bGU9IndpZHRoOiAxMDAuMCU7IGhlaWdodDogMTAwLjAlOyI+VmljdG9yaWEgVmlsbGFnZSwgTm9ydGggWW9yazwvZGl2PmApWzBdOwogICAgICAgICAgICBwb3B1cF9iZmVkOGUwNDlkM2U0YWVmOTQ0MTU3ZWM2MTlmYzhlNC5zZXRDb250ZW50KGh0bWxfOTExYzIxMWZjNDNmNDljZGFjZTBlNmViMmFmYzg1NTcpOwogICAgICAgIAoKICAgICAgICBjaXJjbGVfbWFya2VyXzU3N2YzODNjM2JjYTQ2MzI4YzE5NjYwZWE4YThmMDZiLmJpbmRQb3B1cChwb3B1cF9iZmVkOGUwNDlkM2U0YWVmOTQ0MTU3ZWM2MTlmYzhlNCkKICAgICAgICA7CgogICAgICAgIAogICAgCiAgICAKICAgICAgICAgICAgdmFyIGNpcmNsZV9tYXJrZXJfZjdkZTA2YzcwMzU3NGY5NWI2NDU3OTg2MWY4MDk3NmUgPSBMLmNpcmNsZU1hcmtlcigKICAgICAgICAgICAgICAgIFs0My43MTg1MTc5OTk5OTk5OTYsIC03OS40NjQ3NjMyOTk5OTk5OV0sCiAgICAgICAgICAgICAgICB7ImJ1YmJsaW5nTW91c2VFdmVudHMiOiB0cnVlLCAiY29sb3IiOiAiYmx1ZSIsICJkYXNoQXJyYXkiOiBudWxsLCAiZGFzaE9mZnNldCI6IG51bGwsICJmaWxsIjogdHJ1ZSwgImZpbGxDb2xvciI6ICIjMzE4NmNjIiwgImZpbGxPcGFjaXR5IjogMC43LCAiZmlsbFJ1bGUiOiAiZXZlbm9kZCIsICJsaW5lQ2FwIjogInJvdW5kIiwgImxpbmVKb2luIjogInJvdW5kIiwgIm9wYWNpdHkiOiAxLjAsICJyYWRpdXMiOiA1LCAic3Ryb2tlIjogdHJ1ZSwgIndlaWdodCI6IDN9CiAgICAgICAgICAgICkuYWRkVG8obWFwX2MxMTM4ZTcwMDcwMzRkNjU4MTZkOWM4ODkyYTM1YzU3KTsKICAgICAgICAKICAgIAogICAgICAgIHZhciBwb3B1cF8zY2RiMTg2YzE4OTY0MDExYWY3NGYzYjE0MmFiMjU5ZiA9IEwucG9wdXAoeyJtYXhXaWR0aCI6ICIxMDAlIn0pOwoKICAgICAgICAKICAgICAgICAgICAgdmFyIGh0bWxfNjM5YWI5NmUxYzcyNDU0Yzg3MjE1NjIxNzgyNzRlMzIgPSAkKGA8ZGl2IGlkPSJodG1sXzYzOWFiOTZlMWM3MjQ1NGM4NzIxNTYyMTc4Mjc0ZTMyIiBzdHlsZT0id2lkdGg6IDEwMC4wJTsgaGVpZ2h0OiAxMDAuMCU7Ij5MYXdyZW5jZSBNYW5vciwgTGF3cmVuY2UgSGVpZ2h0cywgTm9ydGggWW9yazwvZGl2PmApWzBdOwogICAgICAgICAgICBwb3B1cF8zY2RiMTg2YzE4OTY0MDExYWY3NGYzYjE0MmFiMjU5Zi5zZXRDb250ZW50KGh0bWxfNjM5YWI5NmUxYzcyNDU0Yzg3MjE1NjIxNzgyNzRlMzIpOwogICAgICAgIAoKICAgICAgICBjaXJjbGVfbWFya2VyX2Y3ZGUwNmM3MDM1NzRmOTViNjQ1Nzk4NjFmODA5NzZlLmJpbmRQb3B1cChwb3B1cF8zY2RiMTg2YzE4OTY0MDExYWY3NGYzYjE0MmFiMjU5ZikKICAgICAgICA7CgogICAgICAgIAogICAgCiAgICAKICAgICAgICAgICAgdmFyIGNpcmNsZV9tYXJrZXJfYWJjY2RiZGUyMDliNDcyNjhmYTUzNTE0MDljZTIyMzMgPSBMLmNpcmNsZU1hcmtlcigKICAgICAgICAgICAgICAgIFs0My43NDU5MDU3OTk5OTk5OTYsIC03OS4zNTIxODhdLAogICAgICAgICAgICAgICAgeyJidWJibGluZ01vdXNlRXZlbnRzIjogdHJ1ZSwgImNvbG9yIjogImJsdWUiLCAiZGFzaEFycmF5IjogbnVsbCwgImRhc2hPZmZzZXQiOiBudWxsLCAiZmlsbCI6IHRydWUsICJmaWxsQ29sb3IiOiAiIzMxODZjYyIsICJmaWxsT3BhY2l0eSI6IDAuNywgImZpbGxSdWxlIjogImV2ZW5vZGQiLCAibGluZUNhcCI6ICJyb3VuZCIsICJsaW5lSm9pbiI6ICJyb3VuZCIsICJvcGFjaXR5IjogMS4wLCAicmFkaXVzIjogNSwgInN0cm9rZSI6IHRydWUsICJ3ZWlnaHQiOiAzfQogICAgICAgICAgICApLmFkZFRvKG1hcF9jMTEzOGU3MDA3MDM0ZDY1ODE2ZDljODg5MmEzNWM1Nyk7CiAgICAgICAgCiAgICAKICAgICAgICB2YXIgcG9wdXBfMTY0MDNlNjU4N2EyNDAzYzkzYTg5NGVlZmIwYTJmOTUgPSBMLnBvcHVwKHsibWF4V2lkdGgiOiAiMTAwJSJ9KTsKCiAgICAgICAgCiAgICAgICAgICAgIHZhciBodG1sX2IwZjI0NGFlMzY1ZTQwODk4YjE5YjYxMmEyNjkyNTMyID0gJChgPGRpdiBpZD0iaHRtbF9iMGYyNDRhZTM2NWU0MDg5OGIxOWI2MTJhMjY5MjUzMiIgc3R5bGU9IndpZHRoOiAxMDAuMCU7IGhlaWdodDogMTAwLjAlOyI+RG9uIE1pbGxzLCBOb3J0aCBZb3JrPC9kaXY+YClbMF07CiAgICAgICAgICAgIHBvcHVwXzE2NDAzZTY1ODdhMjQwM2M5M2E4OTRlZWZiMGEyZjk1LnNldENvbnRlbnQoaHRtbF9iMGYyNDRhZTM2NWU0MDg5OGIxOWI2MTJhMjY5MjUzMik7CiAgICAgICAgCgogICAgICAgIGNpcmNsZV9tYXJrZXJfYWJjY2RiZGUyMDliNDcyNjhmYTUzNTE0MDljZTIyMzMuYmluZFBvcHVwKHBvcHVwXzE2NDAzZTY1ODdhMjQwM2M5M2E4OTRlZWZiMGEyZjk1KQogICAgICAgIDsKCiAgICAgICAgCiAgICAKICAgIAogICAgICAgICAgICB2YXIgY2lyY2xlX21hcmtlcl8yNTIzYTAxNDY1NWY0NjU1YjQzZDYwYjQ0MGE0NmIxNyA9IEwuY2lyY2xlTWFya2VyKAogICAgICAgICAgICAgICAgWzQzLjcwNjM5NzIsIC03OS4zMDk5MzddLAogICAgICAgICAgICAgICAgeyJidWJibGluZ01vdXNlRXZlbnRzIjogdHJ1ZSwgImNvbG9yIjogImJsdWUiLCAiZGFzaEFycmF5IjogbnVsbCwgImRhc2hPZmZzZXQiOiBudWxsLCAiZmlsbCI6IHRydWUsICJmaWxsQ29sb3IiOiAiIzMxODZjYyIsICJmaWxsT3BhY2l0eSI6IDAuNywgImZpbGxSdWxlIjogImV2ZW5vZGQiLCAibGluZUNhcCI6ICJyb3VuZCIsICJsaW5lSm9pbiI6ICJyb3VuZCIsICJvcGFjaXR5IjogMS4wLCAicmFkaXVzIjogNSwgInN0cm9rZSI6IHRydWUsICJ3ZWlnaHQiOiAzfQogICAgICAgICAgICApLmFkZFRvKG1hcF9jMTEzOGU3MDA3MDM0ZDY1ODE2ZDljODg5MmEzNWM1Nyk7CiAgICAgICAgCiAgICAKICAgICAgICB2YXIgcG9wdXBfZmRmY2YyYmIzMjY5NGI5OGIxOGVlMDM3MGFmZDA5YjMgPSBMLnBvcHVwKHsibWF4V2lkdGgiOiAiMTAwJSJ9KTsKCiAgICAgICAgCiAgICAgICAgICAgIHZhciBodG1sX2E3ODk3OGE3N2I5MjRlZWFhMDc5OWQ0NDc1ZWNhZTA0ID0gJChgPGRpdiBpZD0iaHRtbF9hNzg5NzhhNzdiOTI0ZWVhYTA3OTlkNDQ3NWVjYWUwNCIgc3R5bGU9IndpZHRoOiAxMDAuMCU7IGhlaWdodDogMTAwLjAlOyI+UGFya3ZpZXcgSGlsbCwgV29vZGJpbmUgR2FyZGVucywgRWFzdCBZb3JrPC9kaXY+YClbMF07CiAgICAgICAgICAgIHBvcHVwX2ZkZmNmMmJiMzI2OTRiOThiMThlZTAzNzBhZmQwOWIzLnNldENvbnRlbnQoaHRtbF9hNzg5NzhhNzdiOTI0ZWVhYTA3OTlkNDQ3NWVjYWUwNCk7CiAgICAgICAgCgogICAgICAgIGNpcmNsZV9tYXJrZXJfMjUyM2EwMTQ2NTVmNDY1NWI0M2Q2MGI0NDBhNDZiMTcuYmluZFBvcHVwKHBvcHVwX2ZkZmNmMmJiMzI2OTRiOThiMThlZTAzNzBhZmQwOWIzKQogICAgICAgIDsKCiAgICAgICAgCiAgICAKICAgIAogICAgICAgICAgICB2YXIgY2lyY2xlX21hcmtlcl9mZGIyM2M3ZjdlMTk0OTNkYTg2Mjg2ZmJmNzM2YTU3ZiA9IEwuY2lyY2xlTWFya2VyKAogICAgICAgICAgICAgICAgWzQzLjcwOTU3NywgLTc5LjQ0NTA3MjU5OTk5OTk5XSwKICAgICAgICAgICAgICAgIHsiYnViYmxpbmdNb3VzZUV2ZW50cyI6IHRydWUsICJjb2xvciI6ICJibHVlIiwgImRhc2hBcnJheSI6IG51bGwsICJkYXNoT2Zmc2V0IjogbnVsbCwgImZpbGwiOiB0cnVlLCAiZmlsbENvbG9yIjogIiMzMTg2Y2MiLCAiZmlsbE9wYWNpdHkiOiAwLjcsICJmaWxsUnVsZSI6ICJldmVub2RkIiwgImxpbmVDYXAiOiAicm91bmQiLCAibGluZUpvaW4iOiAicm91bmQiLCAib3BhY2l0eSI6IDEuMCwgInJhZGl1cyI6IDUsICJzdHJva2UiOiB0cnVlLCAid2VpZ2h0IjogM30KICAgICAgICAgICAgKS5hZGRUbyhtYXBfYzExMzhlNzAwNzAzNGQ2NTgxNmQ5Yzg4OTJhMzVjNTcpOwogICAgICAgIAogICAgCiAgICAgICAgdmFyIHBvcHVwX2JkODU5NThlNmU5YTQ4MDZiODFiZjk0NWI2YjQ5MjE0ID0gTC5wb3B1cCh7Im1heFdpZHRoIjogIjEwMCUifSk7CgogICAgICAgIAogICAgICAgICAgICB2YXIgaHRtbF84YWZhYTM4YjQ1YTM0YjMzYjU1NTk3Y2NkMWU1ZDE5ZSA9ICQoYDxkaXYgaWQ9Imh0bWxfOGFmYWEzOGI0NWEzNGIzM2I1NTU5N2NjZDFlNWQxOWUiIHN0eWxlPSJ3aWR0aDogMTAwLjAlOyBoZWlnaHQ6IDEwMC4wJTsiPkdsZW5jYWlybiwgTm9ydGggWW9yazwvZGl2PmApWzBdOwogICAgICAgICAgICBwb3B1cF9iZDg1OTU4ZTZlOWE0ODA2YjgxYmY5NDViNmI0OTIxNC5zZXRDb250ZW50KGh0bWxfOGFmYWEzOGI0NWEzNGIzM2I1NTU5N2NjZDFlNWQxOWUpOwogICAgICAgIAoKICAgICAgICBjaXJjbGVfbWFya2VyX2ZkYjIzYzdmN2UxOTQ5M2RhODYyODZmYmY3MzZhNTdmLmJpbmRQb3B1cChwb3B1cF9iZDg1OTU4ZTZlOWE0ODA2YjgxYmY5NDViNmI0OTIxNCkKICAgICAgICA7CgogICAgICAgIAogICAgCiAgICAKICAgICAgICAgICAgdmFyIGNpcmNsZV9tYXJrZXJfMzc3MWU4NmY3NjczNGQ0NzkzOGIzOWJkN2Y2MTUxYjYgPSBMLmNpcmNsZU1hcmtlcigKICAgICAgICAgICAgICAgIFs0My43MjU4OTk3MDAwMDAwMSwgLTc5LjM0MDkyM10sCiAgICAgICAgICAgICAgICB7ImJ1YmJsaW5nTW91c2VFdmVudHMiOiB0cnVlLCAiY29sb3IiOiAiYmx1ZSIsICJkYXNoQXJyYXkiOiBudWxsLCAiZGFzaE9mZnNldCI6IG51bGwsICJmaWxsIjogdHJ1ZSwgImZpbGxDb2xvciI6ICIjMzE4NmNjIiwgImZpbGxPcGFjaXR5IjogMC43LCAiZmlsbFJ1bGUiOiAiZXZlbm9kZCIsICJsaW5lQ2FwIjogInJvdW5kIiwgImxpbmVKb2luIjogInJvdW5kIiwgIm9wYWNpdHkiOiAxLjAsICJyYWRpdXMiOiA1LCAic3Ryb2tlIjogdHJ1ZSwgIndlaWdodCI6IDN9CiAgICAgICAgICAgICkuYWRkVG8obWFwX2MxMTM4ZTcwMDcwMzRkNjU4MTZkOWM4ODkyYTM1YzU3KTsKICAgICAgICAKICAgIAogICAgICAgIHZhciBwb3B1cF9kYjBkMWY0YTczMDg0YzkwYjQ0NjNlNmQwOTZkZjk3YiA9IEwucG9wdXAoeyJtYXhXaWR0aCI6ICIxMDAlIn0pOwoKICAgICAgICAKICAgICAgICAgICAgdmFyIGh0bWxfN2M3OGFlNWQ4N2QyNDk4ZDhhNDhhMjllNDE5NGFiNTIgPSAkKGA8ZGl2IGlkPSJodG1sXzdjNzhhZTVkODdkMjQ5OGQ4YTQ4YTI5ZTQxOTRhYjUyIiBzdHlsZT0id2lkdGg6IDEwMC4wJTsgaGVpZ2h0OiAxMDAuMCU7Ij5Eb24gTWlsbHMsIE5vcnRoIFlvcms8L2Rpdj5gKVswXTsKICAgICAgICAgICAgcG9wdXBfZGIwZDFmNGE3MzA4NGM5MGI0NDYzZTZkMDk2ZGY5N2Iuc2V0Q29udGVudChodG1sXzdjNzhhZTVkODdkMjQ5OGQ4YTQ4YTI5ZTQxOTRhYjUyKTsKICAgICAgICAKCiAgICAgICAgY2lyY2xlX21hcmtlcl8zNzcxZTg2Zjc2NzM0ZDQ3OTM4YjM5YmQ3ZjYxNTFiNi5iaW5kUG9wdXAocG9wdXBfZGIwZDFmNGE3MzA4NGM5MGI0NDYzZTZkMDk2ZGY5N2IpCiAgICAgICAgOwoKICAgICAgICAKICAgIAogICAgCiAgICAgICAgICAgIHZhciBjaXJjbGVfbWFya2VyXzg0NTQxNWVkZmNkYTQ2MzM4YTFlNDdhYmM2OTcyYTkwID0gTC5jaXJjbGVNYXJrZXIoCiAgICAgICAgICAgICAgICBbNDMuNjk1MzQzOTAwMDAwMDA1LCAtNzkuMzE4Mzg4N10sCiAgICAgICAgICAgICAgICB7ImJ1YmJsaW5nTW91c2VFdmVudHMiOiB0cnVlLCAiY29sb3IiOiAiYmx1ZSIsICJkYXNoQXJyYXkiOiBudWxsLCAiZGFzaE9mZnNldCI6IG51bGwsICJmaWxsIjogdHJ1ZSwgImZpbGxDb2xvciI6ICIjMzE4NmNjIiwgImZpbGxPcGFjaXR5IjogMC43LCAiZmlsbFJ1bGUiOiAiZXZlbm9kZCIsICJsaW5lQ2FwIjogInJvdW5kIiwgImxpbmVKb2luIjogInJvdW5kIiwgIm9wYWNpdHkiOiAxLjAsICJyYWRpdXMiOiA1LCAic3Ryb2tlIjogdHJ1ZSwgIndlaWdodCI6IDN9CiAgICAgICAgICAgICkuYWRkVG8obWFwX2MxMTM4ZTcwMDcwMzRkNjU4MTZkOWM4ODkyYTM1YzU3KTsKICAgICAgICAKICAgIAogICAgICAgIHZhciBwb3B1cF81NjE3YjQwNmY5ZWY0ZThkOTU1NzFmY2JjOGU5NTYzNSA9IEwucG9wdXAoeyJtYXhXaWR0aCI6ICIxMDAlIn0pOwoKICAgICAgICAKICAgICAgICAgICAgdmFyIGh0bWxfZjgyNWYwZmIyMGRkNDhmOGEzNzAzODlkNmZjOGIxZTggPSAkKGA8ZGl2IGlkPSJodG1sX2Y4MjVmMGZiMjBkZDQ4ZjhhMzcwMzg5ZDZmYzhiMWU4IiBzdHlsZT0id2lkdGg6IDEwMC4wJTsgaGVpZ2h0OiAxMDAuMCU7Ij5Xb29kYmluZSBIZWlnaHRzLCBFYXN0IFlvcms8L2Rpdj5gKVswXTsKICAgICAgICAgICAgcG9wdXBfNTYxN2I0MDZmOWVmNGU4ZDk1NTcxZmNiYzhlOTU2MzUuc2V0Q29udGVudChodG1sX2Y4MjVmMGZiMjBkZDQ4ZjhhMzcwMzg5ZDZmYzhiMWU4KTsKICAgICAgICAKCiAgICAgICAgY2lyY2xlX21hcmtlcl84NDU0MTVlZGZjZGE0NjMzOGExZTQ3YWJjNjk3MmE5MC5iaW5kUG9wdXAocG9wdXBfNTYxN2I0MDZmOWVmNGU4ZDk1NTcxZmNiYzhlOTU2MzUpCiAgICAgICAgOwoKICAgICAgICAKICAgIAogICAgCiAgICAgICAgICAgIHZhciBjaXJjbGVfbWFya2VyXzU2N2I2ZDZmZTk3YjQ3MDZhMGJhYzYwNTQ1Mjg5MmEzID0gTC5jaXJjbGVNYXJrZXIoCiAgICAgICAgICAgICAgICBbNDMuNjkzNzgxMywgLTc5LjQyODE5MTQwMDAwMDAyXSwKICAgICAgICAgICAgICAgIHsiYnViYmxpbmdNb3VzZUV2ZW50cyI6IHRydWUsICJjb2xvciI6ICJibHVlIiwgImRhc2hBcnJheSI6IG51bGwsICJkYXNoT2Zmc2V0IjogbnVsbCwgImZpbGwiOiB0cnVlLCAiZmlsbENvbG9yIjogIiMzMTg2Y2MiLCAiZmlsbE9wYWNpdHkiOiAwLjcsICJmaWxsUnVsZSI6ICJldmVub2RkIiwgImxpbmVDYXAiOiAicm91bmQiLCAibGluZUpvaW4iOiAicm91bmQiLCAib3BhY2l0eSI6IDEuMCwgInJhZGl1cyI6IDUsICJzdHJva2UiOiB0cnVlLCAid2VpZ2h0IjogM30KICAgICAgICAgICAgKS5hZGRUbyhtYXBfYzExMzhlNzAwNzAzNGQ2NTgxNmQ5Yzg4OTJhMzVjNTcpOwogICAgICAgIAogICAgCiAgICAgICAgdmFyIHBvcHVwXzZlNTEyZjI1ZjM4NjRiM2Q4ZDFiMDc2NThlZWExNjhlID0gTC5wb3B1cCh7Im1heFdpZHRoIjogIjEwMCUifSk7CgogICAgICAgIAogICAgICAgICAgICB2YXIgaHRtbF9hZjNhY2YwMzBkZjg0ZjIxYjgxZGQ5ZjE2YjVjNmJlZSA9ICQoYDxkaXYgaWQ9Imh0bWxfYWYzYWNmMDMwZGY4NGYyMWI4MWRkOWYxNmI1YzZiZWUiIHN0eWxlPSJ3aWR0aDogMTAwLjAlOyBoZWlnaHQ6IDEwMC4wJTsiPkh1bWV3b29kLUNlZGFydmFsZSwgWW9yazwvZGl2PmApWzBdOwogICAgICAgICAgICBwb3B1cF82ZTUxMmYyNWYzODY0YjNkOGQxYjA3NjU4ZWVhMTY4ZS5zZXRDb250ZW50KGh0bWxfYWYzYWNmMDMwZGY4NGYyMWI4MWRkOWYxNmI1YzZiZWUpOwogICAgICAgIAoKICAgICAgICBjaXJjbGVfbWFya2VyXzU2N2I2ZDZmZTk3YjQ3MDZhMGJhYzYwNTQ1Mjg5MmEzLmJpbmRQb3B1cChwb3B1cF82ZTUxMmYyNWYzODY0YjNkOGQxYjA3NjU4ZWVhMTY4ZSkKICAgICAgICA7CgogICAgICAgIAogICAgCiAgICAKICAgICAgICAgICAgdmFyIGNpcmNsZV9tYXJrZXJfNTI4NzZjYzA5NmRjNGVjYzlhNDIxZjMxYzFmMDU0YmEgPSBMLmNpcmNsZU1hcmtlcigKICAgICAgICAgICAgICAgIFs0My42ODkwMjU2LCAtNzkuNDUzNTEyXSwKICAgICAgICAgICAgICAgIHsiYnViYmxpbmdNb3VzZUV2ZW50cyI6IHRydWUsICJjb2xvciI6ICJibHVlIiwgImRhc2hBcnJheSI6IG51bGwsICJkYXNoT2Zmc2V0IjogbnVsbCwgImZpbGwiOiB0cnVlLCAiZmlsbENvbG9yIjogIiMzMTg2Y2MiLCAiZmlsbE9wYWNpdHkiOiAwLjcsICJmaWxsUnVsZSI6ICJldmVub2RkIiwgImxpbmVDYXAiOiAicm91bmQiLCAibGluZUpvaW4iOiAicm91bmQiLCAib3BhY2l0eSI6IDEuMCwgInJhZGl1cyI6IDUsICJzdHJva2UiOiB0cnVlLCAid2VpZ2h0IjogM30KICAgICAgICAgICAgKS5hZGRUbyhtYXBfYzExMzhlNzAwNzAzNGQ2NTgxNmQ5Yzg4OTJhMzVjNTcpOwogICAgICAgIAogICAgCiAgICAgICAgdmFyIHBvcHVwXzY1MjkwZTNhYWNhMjRjNjg5NTVhYmQ2NjBmYzEwY2FmID0gTC5wb3B1cCh7Im1heFdpZHRoIjogIjEwMCUifSk7CgogICAgICAgIAogICAgICAgICAgICB2YXIgaHRtbF8yMmY1ZTA5NWEzZDk0NGUwOGMzOWM4Mzc4ZTM2YmNiMCA9ICQoYDxkaXYgaWQ9Imh0bWxfMjJmNWUwOTVhM2Q5NDRlMDhjMzljODM3OGUzNmJjYjAiIHN0eWxlPSJ3aWR0aDogMTAwLjAlOyBoZWlnaHQ6IDEwMC4wJTsiPkNhbGVkb25pYS1GYWlyYmFua3MsIFlvcms8L2Rpdj5gKVswXTsKICAgICAgICAgICAgcG9wdXBfNjUyOTBlM2FhY2EyNGM2ODk1NWFiZDY2MGZjMTBjYWYuc2V0Q29udGVudChodG1sXzIyZjVlMDk1YTNkOTQ0ZTA4YzM5YzgzNzhlMzZiY2IwKTsKICAgICAgICAKCiAgICAgICAgY2lyY2xlX21hcmtlcl81Mjg3NmNjMDk2ZGM0ZWNjOWE0MjFmMzFjMWYwNTRiYS5iaW5kUG9wdXAocG9wdXBfNjUyOTBlM2FhY2EyNGM2ODk1NWFiZDY2MGZjMTBjYWYpCiAgICAgICAgOwoKICAgICAgICAKICAgIAogICAgCiAgICAgICAgICAgIHZhciBjaXJjbGVfbWFya2VyXzY3YWRhMjMyODZjZDRkNDY4YmExNDdjMTdiMTAwNmYzID0gTC5jaXJjbGVNYXJrZXIoCiAgICAgICAgICAgICAgICBbNDMuNzA5MDYwNCwgLTc5LjM2MzQ1MTddLAogICAgICAgICAgICAgICAgeyJidWJibGluZ01vdXNlRXZlbnRzIjogdHJ1ZSwgImNvbG9yIjogImJsdWUiLCAiZGFzaEFycmF5IjogbnVsbCwgImRhc2hPZmZzZXQiOiBudWxsLCAiZmlsbCI6IHRydWUsICJmaWxsQ29sb3IiOiAiIzMxODZjYyIsICJmaWxsT3BhY2l0eSI6IDAuNywgImZpbGxSdWxlIjogImV2ZW5vZGQiLCAibGluZUNhcCI6ICJyb3VuZCIsICJsaW5lSm9pbiI6ICJyb3VuZCIsICJvcGFjaXR5IjogMS4wLCAicmFkaXVzIjogNSwgInN0cm9rZSI6IHRydWUsICJ3ZWlnaHQiOiAzfQogICAgICAgICAgICApLmFkZFRvKG1hcF9jMTEzOGU3MDA3MDM0ZDY1ODE2ZDljODg5MmEzNWM1Nyk7CiAgICAgICAgCiAgICAKICAgICAgICB2YXIgcG9wdXBfYzQ0ZjRiNjU0Zjk4NDA4NjkzM2ZiNDg5OGQ3NjAzNGEgPSBMLnBvcHVwKHsibWF4V2lkdGgiOiAiMTAwJSJ9KTsKCiAgICAgICAgCiAgICAgICAgICAgIHZhciBodG1sXzMwMjJjZGY4YzE1YTQzNDVhNDA2MDlhMDI5M2M2Yjk1ID0gJChgPGRpdiBpZD0iaHRtbF8zMDIyY2RmOGMxNWE0MzQ1YTQwNjA5YTAyOTNjNmI5NSIgc3R5bGU9IndpZHRoOiAxMDAuMCU7IGhlaWdodDogMTAwLjAlOyI+TGVhc2lkZSwgRWFzdCBZb3JrPC9kaXY+YClbMF07CiAgICAgICAgICAgIHBvcHVwX2M0NGY0YjY1NGY5ODQwODY5MzNmYjQ4OThkNzYwMzRhLnNldENvbnRlbnQoaHRtbF8zMDIyY2RmOGMxNWE0MzQ1YTQwNjA5YTAyOTNjNmI5NSk7CiAgICAgICAgCgogICAgICAgIGNpcmNsZV9tYXJrZXJfNjdhZGEyMzI4NmNkNGQ0NjhiYTE0N2MxN2IxMDA2ZjMuYmluZFBvcHVwKHBvcHVwX2M0NGY0YjY1NGY5ODQwODY5MzNmYjQ4OThkNzYwMzRhKQogICAgICAgIDsKCiAgICAgICAgCiAgICAKICAgIAogICAgICAgICAgICB2YXIgY2lyY2xlX21hcmtlcl9mNzgyMGM1ZWM2NDc0NjRlYThkOTI4MzVlM2Y3NzYxZiA9IEwuY2lyY2xlTWFya2VyKAogICAgICAgICAgICAgICAgWzQzLjgwMzc2MjIsIC03OS4zNjM0NTE3XSwKICAgICAgICAgICAgICAgIHsiYnViYmxpbmdNb3VzZUV2ZW50cyI6IHRydWUsICJjb2xvciI6ICJibHVlIiwgImRhc2hBcnJheSI6IG51bGwsICJkYXNoT2Zmc2V0IjogbnVsbCwgImZpbGwiOiB0cnVlLCAiZmlsbENvbG9yIjogIiMzMTg2Y2MiLCAiZmlsbE9wYWNpdHkiOiAwLjcsICJmaWxsUnVsZSI6ICJldmVub2RkIiwgImxpbmVDYXAiOiAicm91bmQiLCAibGluZUpvaW4iOiAicm91bmQiLCAib3BhY2l0eSI6IDEuMCwgInJhZGl1cyI6IDUsICJzdHJva2UiOiB0cnVlLCAid2VpZ2h0IjogM30KICAgICAgICAgICAgKS5hZGRUbyhtYXBfYzExMzhlNzAwNzAzNGQ2NTgxNmQ5Yzg4OTJhMzVjNTcpOwogICAgICAgIAogICAgCiAgICAgICAgdmFyIHBvcHVwX2ViMzJlZmQ1NjJhMzQ4ZWFiMWQxMjA0NzAzMjMwODIwID0gTC5wb3B1cCh7Im1heFdpZHRoIjogIjEwMCUifSk7CgogICAgICAgIAogICAgICAgICAgICB2YXIgaHRtbF9hZTUwNjU1ZWVmNTQ0ZjFiYTRhYWUwMzIwMTIyN2RmNiA9ICQoYDxkaXYgaWQ9Imh0bWxfYWU1MDY1NWVlZjU0NGYxYmE0YWFlMDMyMDEyMjdkZjYiIHN0eWxlPSJ3aWR0aDogMTAwLjAlOyBoZWlnaHQ6IDEwMC4wJTsiPkhpbGxjcmVzdCBWaWxsYWdlLCBOb3J0aCBZb3JrPC9kaXY+YClbMF07CiAgICAgICAgICAgIHBvcHVwX2ViMzJlZmQ1NjJhMzQ4ZWFiMWQxMjA0NzAzMjMwODIwLnNldENvbnRlbnQoaHRtbF9hZTUwNjU1ZWVmNTQ0ZjFiYTRhYWUwMzIwMTIyN2RmNik7CiAgICAgICAgCgogICAgICAgIGNpcmNsZV9tYXJrZXJfZjc4MjBjNWVjNjQ3NDY0ZWE4ZDkyODM1ZTNmNzc2MWYuYmluZFBvcHVwKHBvcHVwX2ViMzJlZmQ1NjJhMzQ4ZWFiMWQxMjA0NzAzMjMwODIwKQogICAgICAgIDsKCiAgICAgICAgCiAgICAKICAgIAogICAgICAgICAgICB2YXIgY2lyY2xlX21hcmtlcl81N2VmZjA3MGMxNGY0MGQ4OTBhOTExNWFlNTcyZWQwZiA9IEwuY2lyY2xlTWFya2VyKAogICAgICAgICAgICAgICAgWzQzLjc1NDMyODMsIC03OS40NDIyNTkzXSwKICAgICAgICAgICAgICAgIHsiYnViYmxpbmdNb3VzZUV2ZW50cyI6IHRydWUsICJjb2xvciI6ICJibHVlIiwgImRhc2hBcnJheSI6IG51bGwsICJkYXNoT2Zmc2V0IjogbnVsbCwgImZpbGwiOiB0cnVlLCAiZmlsbENvbG9yIjogIiMzMTg2Y2MiLCAiZmlsbE9wYWNpdHkiOiAwLjcsICJmaWxsUnVsZSI6ICJldmVub2RkIiwgImxpbmVDYXAiOiAicm91bmQiLCAibGluZUpvaW4iOiAicm91bmQiLCAib3BhY2l0eSI6IDEuMCwgInJhZGl1cyI6IDUsICJzdHJva2UiOiB0cnVlLCAid2VpZ2h0IjogM30KICAgICAgICAgICAgKS5hZGRUbyhtYXBfYzExMzhlNzAwNzAzNGQ2NTgxNmQ5Yzg4OTJhMzVjNTcpOwogICAgICAgIAogICAgCiAgICAgICAgdmFyIHBvcHVwX2Q0ODE5OGE4MjI3NjRjMDE4YWMwOTZiNGE0ZjllM2NjID0gTC5wb3B1cCh7Im1heFdpZHRoIjogIjEwMCUifSk7CgogICAgICAgIAogICAgICAgICAgICB2YXIgaHRtbF9mZTU3MGJkYzE1ZTU0MjA5ODVhODU5YzkyNDM2MGU2NiA9ICQoYDxkaXYgaWQ9Imh0bWxfZmU1NzBiZGMxNWU1NDIwOTg1YTg1OWM5MjQzNjBlNjYiIHN0eWxlPSJ3aWR0aDogMTAwLjAlOyBoZWlnaHQ6IDEwMC4wJTsiPkJhdGh1cnN0IE1hbm9yLCBXaWxzb24gSGVpZ2h0cywgRG93bnN2aWV3IE5vcnRoLCBOb3J0aCBZb3JrPC9kaXY+YClbMF07CiAgICAgICAgICAgIHBvcHVwX2Q0ODE5OGE4MjI3NjRjMDE4YWMwOTZiNGE0ZjllM2NjLnNldENvbnRlbnQoaHRtbF9mZTU3MGJkYzE1ZTU0MjA5ODVhODU5YzkyNDM2MGU2Nik7CiAgICAgICAgCgogICAgICAgIGNpcmNsZV9tYXJrZXJfNTdlZmYwNzBjMTRmNDBkODkwYTkxMTVhZTU3MmVkMGYuYmluZFBvcHVwKHBvcHVwX2Q0ODE5OGE4MjI3NjRjMDE4YWMwOTZiNGE0ZjllM2NjKQogICAgICAgIDsKCiAgICAgICAgCiAgICAKICAgIAogICAgICAgICAgICB2YXIgY2lyY2xlX21hcmtlcl9kODE2ZmYxNzg5NzM0ZjU3OGYzMWIxNDg2NGUxZDQzNyA9IEwuY2lyY2xlTWFya2VyKAogICAgICAgICAgICAgICAgWzQzLjcwNTM2ODksIC03OS4zNDkzNzE5MDAwMDAwMV0sCiAgICAgICAgICAgICAgICB7ImJ1YmJsaW5nTW91c2VFdmVudHMiOiB0cnVlLCAiY29sb3IiOiAiYmx1ZSIsICJkYXNoQXJyYXkiOiBudWxsLCAiZGFzaE9mZnNldCI6IG51bGwsICJmaWxsIjogdHJ1ZSwgImZpbGxDb2xvciI6ICIjMzE4NmNjIiwgImZpbGxPcGFjaXR5IjogMC43LCAiZmlsbFJ1bGUiOiAiZXZlbm9kZCIsICJsaW5lQ2FwIjogInJvdW5kIiwgImxpbmVKb2luIjogInJvdW5kIiwgIm9wYWNpdHkiOiAxLjAsICJyYWRpdXMiOiA1LCAic3Ryb2tlIjogdHJ1ZSwgIndlaWdodCI6IDN9CiAgICAgICAgICAgICkuYWRkVG8obWFwX2MxMTM4ZTcwMDcwMzRkNjU4MTZkOWM4ODkyYTM1YzU3KTsKICAgICAgICAKICAgIAogICAgICAgIHZhciBwb3B1cF8wNDc4ZjRiZjk3Yjk0YzA1ODQzODE4OTY5Njg0ZjRjYSA9IEwucG9wdXAoeyJtYXhXaWR0aCI6ICIxMDAlIn0pOwoKICAgICAgICAKICAgICAgICAgICAgdmFyIGh0bWxfMWQzOGViZGE0ZjRlNGE0MTk5MDBkOTliMmQ4Y2YxNDIgPSAkKGA8ZGl2IGlkPSJodG1sXzFkMzhlYmRhNGY0ZTRhNDE5OTAwZDk5YjJkOGNmMTQyIiBzdHlsZT0id2lkdGg6IDEwMC4wJTsgaGVpZ2h0OiAxMDAuMCU7Ij5UaG9ybmNsaWZmZSBQYXJrLCBFYXN0IFlvcms8L2Rpdj5gKVswXTsKICAgICAgICAgICAgcG9wdXBfMDQ3OGY0YmY5N2I5NGMwNTg0MzgxODk2OTY4NGY0Y2Euc2V0Q29udGVudChodG1sXzFkMzhlYmRhNGY0ZTRhNDE5OTAwZDk5YjJkOGNmMTQyKTsKICAgICAgICAKCiAgICAgICAgY2lyY2xlX21hcmtlcl9kODE2ZmYxNzg5NzM0ZjU3OGYzMWIxNDg2NGUxZDQzNy5iaW5kUG9wdXAocG9wdXBfMDQ3OGY0YmY5N2I5NGMwNTg0MzgxODk2OTY4NGY0Y2EpCiAgICAgICAgOwoKICAgICAgICAKICAgIAogICAgCiAgICAgICAgICAgIHZhciBjaXJjbGVfbWFya2VyXzY0MWIyODA2NTQzMjQ1ZjI5ZTVkYmQ0NzVjNGEzYzI3ID0gTC5jaXJjbGVNYXJrZXIoCiAgICAgICAgICAgICAgICBbNDMuNzc4NTE3NSwgLTc5LjM0NjU1NTddLAogICAgICAgICAgICAgICAgeyJidWJibGluZ01vdXNlRXZlbnRzIjogdHJ1ZSwgImNvbG9yIjogImJsdWUiLCAiZGFzaEFycmF5IjogbnVsbCwgImRhc2hPZmZzZXQiOiBudWxsLCAiZmlsbCI6IHRydWUsICJmaWxsQ29sb3IiOiAiIzMxODZjYyIsICJmaWxsT3BhY2l0eSI6IDAuNywgImZpbGxSdWxlIjogImV2ZW5vZGQiLCAibGluZUNhcCI6ICJyb3VuZCIsICJsaW5lSm9pbiI6ICJyb3VuZCIsICJvcGFjaXR5IjogMS4wLCAicmFkaXVzIjogNSwgInN0cm9rZSI6IHRydWUsICJ3ZWlnaHQiOiAzfQogICAgICAgICAgICApLmFkZFRvKG1hcF9jMTEzOGU3MDA3MDM0ZDY1ODE2ZDljODg5MmEzNWM1Nyk7CiAgICAgICAgCiAgICAKICAgICAgICB2YXIgcG9wdXBfNzExZWI2YmY5NjQ5NGM1OTg3MDY4NjI5NmFiMWIxNTcgPSBMLnBvcHVwKHsibWF4V2lkdGgiOiAiMTAwJSJ9KTsKCiAgICAgICAgCiAgICAgICAgICAgIHZhciBodG1sXzUwOGRlMDFiNzgyMDQ4MDFhOGM5MDU4Mjc4ZTliZmQzID0gJChgPGRpdiBpZD0iaHRtbF81MDhkZTAxYjc4MjA0ODAxYThjOTA1ODI3OGU5YmZkMyIgc3R5bGU9IndpZHRoOiAxMDAuMCU7IGhlaWdodDogMTAwLjAlOyI+RmFpcnZpZXcsIEhlbnJ5IEZhcm0sIE9yaW9sZSwgTm9ydGggWW9yazwvZGl2PmApWzBdOwogICAgICAgICAgICBwb3B1cF83MTFlYjZiZjk2NDk0YzU5ODcwNjg2Mjk2YWIxYjE1Ny5zZXRDb250ZW50KGh0bWxfNTA4ZGUwMWI3ODIwNDgwMWE4YzkwNTgyNzhlOWJmZDMpOwogICAgICAgIAoKICAgICAgICBjaXJjbGVfbWFya2VyXzY0MWIyODA2NTQzMjQ1ZjI5ZTVkYmQ0NzVjNGEzYzI3LmJpbmRQb3B1cChwb3B1cF83MTFlYjZiZjk2NDk0YzU5ODcwNjg2Mjk2YWIxYjE1NykKICAgICAgICA7CgogICAgICAgIAogICAgCiAgICAKICAgICAgICAgICAgdmFyIGNpcmNsZV9tYXJrZXJfMWJiNmM5MzMyNDVlNDdlZGI4NThhODI4YmNmNWUwNjYgPSBMLmNpcmNsZU1hcmtlcigKICAgICAgICAgICAgICAgIFs0My43Njc5ODAzLCAtNzkuNDg3MjYxOTAwMDAwMDFdLAogICAgICAgICAgICAgICAgeyJidWJibGluZ01vdXNlRXZlbnRzIjogdHJ1ZSwgImNvbG9yIjogImJsdWUiLCAiZGFzaEFycmF5IjogbnVsbCwgImRhc2hPZmZzZXQiOiBudWxsLCAiZmlsbCI6IHRydWUsICJmaWxsQ29sb3IiOiAiIzMxODZjYyIsICJmaWxsT3BhY2l0eSI6IDAuNywgImZpbGxSdWxlIjogImV2ZW5vZGQiLCAibGluZUNhcCI6ICJyb3VuZCIsICJsaW5lSm9pbiI6ICJyb3VuZCIsICJvcGFjaXR5IjogMS4wLCAicmFkaXVzIjogNSwgInN0cm9rZSI6IHRydWUsICJ3ZWlnaHQiOiAzfQogICAgICAgICAgICApLmFkZFRvKG1hcF9jMTEzOGU3MDA3MDM0ZDY1ODE2ZDljODg5MmEzNWM1Nyk7CiAgICAgICAgCiAgICAKICAgICAgICB2YXIgcG9wdXBfNzEyYzNkM2QzYzE5NGQ3N2E5MzdiNzA3ZTRiZDkzZDcgPSBMLnBvcHVwKHsibWF4V2lkdGgiOiAiMTAwJSJ9KTsKCiAgICAgICAgCiAgICAgICAgICAgIHZhciBodG1sXzFjZTExYzI1NDgxZTQzNGM5OTYwYTVjNTA1NjZlNDM3ID0gJChgPGRpdiBpZD0iaHRtbF8xY2UxMWMyNTQ4MWU0MzRjOTk2MGE1YzUwNTY2ZTQzNyIgc3R5bGU9IndpZHRoOiAxMDAuMCU7IGhlaWdodDogMTAwLjAlOyI+Tm9ydGh3b29kIFBhcmssIFlvcmsgVW5pdmVyc2l0eSwgTm9ydGggWW9yazwvZGl2PmApWzBdOwogICAgICAgICAgICBwb3B1cF83MTJjM2QzZDNjMTk0ZDc3YTkzN2I3MDdlNGJkOTNkNy5zZXRDb250ZW50KGh0bWxfMWNlMTFjMjU0ODFlNDM0Yzk5NjBhNWM1MDU2NmU0MzcpOwogICAgICAgIAoKICAgICAgICBjaXJjbGVfbWFya2VyXzFiYjZjOTMzMjQ1ZTQ3ZWRiODU4YTgyOGJjZjVlMDY2LmJpbmRQb3B1cChwb3B1cF83MTJjM2QzZDNjMTk0ZDc3YTkzN2I3MDdlNGJkOTNkNykKICAgICAgICA7CgogICAgICAgIAogICAgCiAgICAKICAgICAgICAgICAgdmFyIGNpcmNsZV9tYXJrZXJfY2RmY2UyMzdlYzYxNGM0MmE2NjE3ODE4MGU4YmRkMTAgPSBMLmNpcmNsZU1hcmtlcigKICAgICAgICAgICAgICAgIFs0My42ODUzNDcsIC03OS4zMzgxMDY1XSwKICAgICAgICAgICAgICAgIHsiYnViYmxpbmdNb3VzZUV2ZW50cyI6IHRydWUsICJjb2xvciI6ICJibHVlIiwgImRhc2hBcnJheSI6IG51bGwsICJkYXNoT2Zmc2V0IjogbnVsbCwgImZpbGwiOiB0cnVlLCAiZmlsbENvbG9yIjogIiMzMTg2Y2MiLCAiZmlsbE9wYWNpdHkiOiAwLjcsICJmaWxsUnVsZSI6ICJldmVub2RkIiwgImxpbmVDYXAiOiAicm91bmQiLCAibGluZUpvaW4iOiAicm91bmQiLCAib3BhY2l0eSI6IDEuMCwgInJhZGl1cyI6IDUsICJzdHJva2UiOiB0cnVlLCAid2VpZ2h0IjogM30KICAgICAgICAgICAgKS5hZGRUbyhtYXBfYzExMzhlNzAwNzAzNGQ2NTgxNmQ5Yzg4OTJhMzVjNTcpOwogICAgICAgIAogICAgCiAgICAgICAgdmFyIHBvcHVwX2NkOGMxODQ2NmY1ZDQ5MjlhYTc5MTJiYmRhMzdlZjEwID0gTC5wb3B1cCh7Im1heFdpZHRoIjogIjEwMCUifSk7CgogICAgICAgIAogICAgICAgICAgICB2YXIgaHRtbF85YWY3ZTNmOTZmMWY0MjE4ODYyZTk0YzFiMjlhZDFhMCA9ICQoYDxkaXYgaWQ9Imh0bWxfOWFmN2UzZjk2ZjFmNDIxODg2MmU5NGMxYjI5YWQxYTAiIHN0eWxlPSJ3aWR0aDogMTAwLjAlOyBoZWlnaHQ6IDEwMC4wJTsiPkVhc3QgVG9yb250bywgQnJvYWR2aWV3IE5vcnRoIChPbGQgRWFzdCBZb3JrKSwgRWFzdCBZb3JrPC9kaXY+YClbMF07CiAgICAgICAgICAgIHBvcHVwX2NkOGMxODQ2NmY1ZDQ5MjlhYTc5MTJiYmRhMzdlZjEwLnNldENvbnRlbnQoaHRtbF85YWY3ZTNmOTZmMWY0MjE4ODYyZTk0YzFiMjlhZDFhMCk7CiAgICAgICAgCgogICAgICAgIGNpcmNsZV9tYXJrZXJfY2RmY2UyMzdlYzYxNGM0MmE2NjE3ODE4MGU4YmRkMTAuYmluZFBvcHVwKHBvcHVwX2NkOGMxODQ2NmY1ZDQ5MjlhYTc5MTJiYmRhMzdlZjEwKQogICAgICAgIDsKCiAgICAgICAgCiAgICAKICAgIAogICAgICAgICAgICB2YXIgY2lyY2xlX21hcmtlcl80ZGZhZjU4YzdlMjY0NjhmYmE5YjA2OTQ1MjU0ZWUxOCA9IEwuY2lyY2xlTWFya2VyKAogICAgICAgICAgICAgICAgWzQzLjc4Njk0NzMsIC03OS4zODU5NzVdLAogICAgICAgICAgICAgICAgeyJidWJibGluZ01vdXNlRXZlbnRzIjogdHJ1ZSwgImNvbG9yIjogImJsdWUiLCAiZGFzaEFycmF5IjogbnVsbCwgImRhc2hPZmZzZXQiOiBudWxsLCAiZmlsbCI6IHRydWUsICJmaWxsQ29sb3IiOiAiIzMxODZjYyIsICJmaWxsT3BhY2l0eSI6IDAuNywgImZpbGxSdWxlIjogImV2ZW5vZGQiLCAibGluZUNhcCI6ICJyb3VuZCIsICJsaW5lSm9pbiI6ICJyb3VuZCIsICJvcGFjaXR5IjogMS4wLCAicmFkaXVzIjogNSwgInN0cm9rZSI6IHRydWUsICJ3ZWlnaHQiOiAzfQogICAgICAgICAgICApLmFkZFRvKG1hcF9jMTEzOGU3MDA3MDM0ZDY1ODE2ZDljODg5MmEzNWM1Nyk7CiAgICAgICAgCiAgICAKICAgICAgICB2YXIgcG9wdXBfNmVhMWU0N2VhNWVlNGI1Mzk4NzAxZTAwNTMzNDM4MTAgPSBMLnBvcHVwKHsibWF4V2lkdGgiOiAiMTAwJSJ9KTsKCiAgICAgICAgCiAgICAgICAgICAgIHZhciBodG1sXzExOWExNzgxOWM5NDRkNTI5Mzc1YWUyMTRkM2E5MDI4ID0gJChgPGRpdiBpZD0iaHRtbF8xMTlhMTc4MTljOTQ0ZDUyOTM3NWFlMjE0ZDNhOTAyOCIgc3R5bGU9IndpZHRoOiAxMDAuMCU7IGhlaWdodDogMTAwLjAlOyI+QmF5dmlldyBWaWxsYWdlLCBOb3J0aCBZb3JrPC9kaXY+YClbMF07CiAgICAgICAgICAgIHBvcHVwXzZlYTFlNDdlYTVlZTRiNTM5ODcwMWUwMDUzMzQzODEwLnNldENvbnRlbnQoaHRtbF8xMTlhMTc4MTljOTQ0ZDUyOTM3NWFlMjE0ZDNhOTAyOCk7CiAgICAgICAgCgogICAgICAgIGNpcmNsZV9tYXJrZXJfNGRmYWY1OGM3ZTI2NDY4ZmJhOWIwNjk0NTI1NGVlMTguYmluZFBvcHVwKHBvcHVwXzZlYTFlNDdlYTVlZTRiNTM5ODcwMWUwMDUzMzQzODEwKQogICAgICAgIDsKCiAgICAgICAgCiAgICAKICAgIAogICAgICAgICAgICB2YXIgY2lyY2xlX21hcmtlcl83YzY3YjZmMDI4MTE0YzU1YjI2ZmRmNjZiMzA4Y2ViMiA9IEwuY2lyY2xlTWFya2VyKAogICAgICAgICAgICAgICAgWzQzLjczNzQ3MzIwMDAwMDAwNCwgLTc5LjQ2NDc2MzI5OTk5OTk5XSwKICAgICAgICAgICAgICAgIHsiYnViYmxpbmdNb3VzZUV2ZW50cyI6IHRydWUsICJjb2xvciI6ICJibHVlIiwgImRhc2hBcnJheSI6IG51bGwsICJkYXNoT2Zmc2V0IjogbnVsbCwgImZpbGwiOiB0cnVlLCAiZmlsbENvbG9yIjogIiMzMTg2Y2MiLCAiZmlsbE9wYWNpdHkiOiAwLjcsICJmaWxsUnVsZSI6ICJldmVub2RkIiwgImxpbmVDYXAiOiAicm91bmQiLCAibGluZUpvaW4iOiAicm91bmQiLCAib3BhY2l0eSI6IDEuMCwgInJhZGl1cyI6IDUsICJzdHJva2UiOiB0cnVlLCAid2VpZ2h0IjogM30KICAgICAgICAgICAgKS5hZGRUbyhtYXBfYzExMzhlNzAwNzAzNGQ2NTgxNmQ5Yzg4OTJhMzVjNTcpOwogICAgICAgIAogICAgCiAgICAgICAgdmFyIHBvcHVwXzhlOTNhNjgxODI4NjQwMGM4ZmFmMjY3MTBjZWIzMTQ5ID0gTC5wb3B1cCh7Im1heFdpZHRoIjogIjEwMCUifSk7CgogICAgICAgIAogICAgICAgICAgICB2YXIgaHRtbF8wMzJjMTYwNjIxMjE0ZGJmYWYwNWU5ZDAzY2QwZDA1MCA9ICQoYDxkaXYgaWQ9Imh0bWxfMDMyYzE2MDYyMTIxNGRiZmFmMDVlOWQwM2NkMGQwNTAiIHN0eWxlPSJ3aWR0aDogMTAwLjAlOyBoZWlnaHQ6IDEwMC4wJTsiPkRvd25zdmlldywgTm9ydGggWW9yazwvZGl2PmApWzBdOwogICAgICAgICAgICBwb3B1cF84ZTkzYTY4MTgyODY0MDBjOGZhZjI2NzEwY2ViMzE0OS5zZXRDb250ZW50KGh0bWxfMDMyYzE2MDYyMTIxNGRiZmFmMDVlOWQwM2NkMGQwNTApOwogICAgICAgIAoKICAgICAgICBjaXJjbGVfbWFya2VyXzdjNjdiNmYwMjgxMTRjNTViMjZmZGY2NmIzMDhjZWIyLmJpbmRQb3B1cChwb3B1cF84ZTkzYTY4MTgyODY0MDBjOGZhZjI2NzEwY2ViMzE0OSkKICAgICAgICA7CgogICAgICAgIAogICAgCiAgICAKICAgICAgICAgICAgdmFyIGNpcmNsZV9tYXJrZXJfMTg3MmY5NDJhOWU5NDYzN2IxNjU0ZTAzMjEyYjM2NGYgPSBMLmNpcmNsZU1hcmtlcigKICAgICAgICAgICAgICAgIFs0My43NTc0OTAyLCAtNzkuMzc0NzE0MDk5OTk5OTldLAogICAgICAgICAgICAgICAgeyJidWJibGluZ01vdXNlRXZlbnRzIjogdHJ1ZSwgImNvbG9yIjogImJsdWUiLCAiZGFzaEFycmF5IjogbnVsbCwgImRhc2hPZmZzZXQiOiBudWxsLCAiZmlsbCI6IHRydWUsICJmaWxsQ29sb3IiOiAiIzMxODZjYyIsICJmaWxsT3BhY2l0eSI6IDAuNywgImZpbGxSdWxlIjogImV2ZW5vZGQiLCAibGluZUNhcCI6ICJyb3VuZCIsICJsaW5lSm9pbiI6ICJyb3VuZCIsICJvcGFjaXR5IjogMS4wLCAicmFkaXVzIjogNSwgInN0cm9rZSI6IHRydWUsICJ3ZWlnaHQiOiAzfQogICAgICAgICAgICApLmFkZFRvKG1hcF9jMTEzOGU3MDA3MDM0ZDY1ODE2ZDljODg5MmEzNWM1Nyk7CiAgICAgICAgCiAgICAKICAgICAgICB2YXIgcG9wdXBfMjc4YzIyMGNkNmRhNDAxM2I5NzdhOTczM2E4ZWI3OTMgPSBMLnBvcHVwKHsibWF4V2lkdGgiOiAiMTAwJSJ9KTsKCiAgICAgICAgCiAgICAgICAgICAgIHZhciBodG1sXzEwZWIxMTUzOWVjZTQ0Yjc4NTA3OTIxNjVmMWY5MTdiID0gJChgPGRpdiBpZD0iaHRtbF8xMGViMTE1MzllY2U0NGI3ODUwNzkyMTY1ZjFmOTE3YiIgc3R5bGU9IndpZHRoOiAxMDAuMCU7IGhlaWdodDogMTAwLjAlOyI+WW9yayBNaWxscywgU2lsdmVyIEhpbGxzLCBOb3J0aCBZb3JrPC9kaXY+YClbMF07CiAgICAgICAgICAgIHBvcHVwXzI3OGMyMjBjZDZkYTQwMTNiOTc3YTk3MzNhOGViNzkzLnNldENvbnRlbnQoaHRtbF8xMGViMTE1MzllY2U0NGI3ODUwNzkyMTY1ZjFmOTE3Yik7CiAgICAgICAgCgogICAgICAgIGNpcmNsZV9tYXJrZXJfMTg3MmY5NDJhOWU5NDYzN2IxNjU0ZTAzMjEyYjM2NGYuYmluZFBvcHVwKHBvcHVwXzI3OGMyMjBjZDZkYTQwMTNiOTc3YTk3MzNhOGViNzkzKQogICAgICAgIDsKCiAgICAgICAgCiAgICAKICAgIAogICAgICAgICAgICB2YXIgY2lyY2xlX21hcmtlcl82MTMwMzc3ZWZiNTE0OGEwYmFkYmQ1NWVjN2FmMjVmYiA9IEwuY2lyY2xlTWFya2VyKAogICAgICAgICAgICAgICAgWzQzLjczOTAxNDYsIC03OS41MDY5NDM2XSwKICAgICAgICAgICAgICAgIHsiYnViYmxpbmdNb3VzZUV2ZW50cyI6IHRydWUsICJjb2xvciI6ICJibHVlIiwgImRhc2hBcnJheSI6IG51bGwsICJkYXNoT2Zmc2V0IjogbnVsbCwgImZpbGwiOiB0cnVlLCAiZmlsbENvbG9yIjogIiMzMTg2Y2MiLCAiZmlsbE9wYWNpdHkiOiAwLjcsICJmaWxsUnVsZSI6ICJldmVub2RkIiwgImxpbmVDYXAiOiAicm91bmQiLCAibGluZUpvaW4iOiAicm91bmQiLCAib3BhY2l0eSI6IDEuMCwgInJhZGl1cyI6IDUsICJzdHJva2UiOiB0cnVlLCAid2VpZ2h0IjogM30KICAgICAgICAgICAgKS5hZGRUbyhtYXBfYzExMzhlNzAwNzAzNGQ2NTgxNmQ5Yzg4OTJhMzVjNTcpOwogICAgICAgIAogICAgCiAgICAgICAgdmFyIHBvcHVwXzdkZjgyN2JmYWMwNDQ4ODc4NzkzMTczZGJmOGY4ZTAwID0gTC5wb3B1cCh7Im1heFdpZHRoIjogIjEwMCUifSk7CgogICAgICAgIAogICAgICAgICAgICB2YXIgaHRtbF81ZDkwYzE2ZjE2Yjc0MzBiYjcxMGY1N2JjY2RjMjMzNiA9ICQoYDxkaXYgaWQ9Imh0bWxfNWQ5MGMxNmYxNmI3NDMwYmI3MTBmNTdiY2NkYzIzMzYiIHN0eWxlPSJ3aWR0aDogMTAwLjAlOyBoZWlnaHQ6IDEwMC4wJTsiPkRvd25zdmlldywgTm9ydGggWW9yazwvZGl2PmApWzBdOwogICAgICAgICAgICBwb3B1cF83ZGY4MjdiZmFjMDQ0ODg3ODc5MzE3M2RiZjhmOGUwMC5zZXRDb250ZW50KGh0bWxfNWQ5MGMxNmYxNmI3NDMwYmI3MTBmNTdiY2NkYzIzMzYpOwogICAgICAgIAoKICAgICAgICBjaXJjbGVfbWFya2VyXzYxMzAzNzdlZmI1MTQ4YTBiYWRiZDU1ZWM3YWYyNWZiLmJpbmRQb3B1cChwb3B1cF83ZGY4MjdiZmFjMDQ0ODg3ODc5MzE3M2RiZjhmOGUwMCkKICAgICAgICA7CgogICAgICAgIAogICAgCiAgICAKICAgICAgICAgICAgdmFyIGNpcmNsZV9tYXJrZXJfYmU0YTg0MzQ0MWE2NGM3ODljZjYxNzQ2ZDljZTljZjcgPSBMLmNpcmNsZU1hcmtlcigKICAgICAgICAgICAgICAgIFs0My43MTM3NTYyMDAwMDAwMDYsIC03OS40OTAwNzM4XSwKICAgICAgICAgICAgICAgIHsiYnViYmxpbmdNb3VzZUV2ZW50cyI6IHRydWUsICJjb2xvciI6ICJibHVlIiwgImRhc2hBcnJheSI6IG51bGwsICJkYXNoT2Zmc2V0IjogbnVsbCwgImZpbGwiOiB0cnVlLCAiZmlsbENvbG9yIjogIiMzMTg2Y2MiLCAiZmlsbE9wYWNpdHkiOiAwLjcsICJmaWxsUnVsZSI6ICJldmVub2RkIiwgImxpbmVDYXAiOiAicm91bmQiLCAibGluZUpvaW4iOiAicm91bmQiLCAib3BhY2l0eSI6IDEuMCwgInJhZGl1cyI6IDUsICJzdHJva2UiOiB0cnVlLCAid2VpZ2h0IjogM30KICAgICAgICAgICAgKS5hZGRUbyhtYXBfYzExMzhlNzAwNzAzNGQ2NTgxNmQ5Yzg4OTJhMzVjNTcpOwogICAgICAgIAogICAgCiAgICAgICAgdmFyIHBvcHVwXzc3MGI0MzYxZGE2NjQ5MGFiZWRmMmE5YzhmZTZmOWVhID0gTC5wb3B1cCh7Im1heFdpZHRoIjogIjEwMCUifSk7CgogICAgICAgIAogICAgICAgICAgICB2YXIgaHRtbF8wNzY5ZDI2ZjI3NTU0MmEwYjBiMmI2MTk4MWQxMjRkNSA9ICQoYDxkaXYgaWQ9Imh0bWxfMDc2OWQyNmYyNzU1NDJhMGIwYjJiNjE5ODFkMTI0ZDUiIHN0eWxlPSJ3aWR0aDogMTAwLjAlOyBoZWlnaHQ6IDEwMC4wJTsiPk5vcnRoIFBhcmssIE1hcGxlIExlYWYgUGFyaywgVXB3b29kIFBhcmssIE5vcnRoIFlvcms8L2Rpdj5gKVswXTsKICAgICAgICAgICAgcG9wdXBfNzcwYjQzNjFkYTY2NDkwYWJlZGYyYTljOGZlNmY5ZWEuc2V0Q29udGVudChodG1sXzA3NjlkMjZmMjc1NTQyYTBiMGIyYjYxOTgxZDEyNGQ1KTsKICAgICAgICAKCiAgICAgICAgY2lyY2xlX21hcmtlcl9iZTRhODQzNDQxYTY0Yzc4OWNmNjE3NDZkOWNlOWNmNy5iaW5kUG9wdXAocG9wdXBfNzcwYjQzNjFkYTY2NDkwYWJlZGYyYTljOGZlNmY5ZWEpCiAgICAgICAgOwoKICAgICAgICAKICAgIAogICAgCiAgICAgICAgICAgIHZhciBjaXJjbGVfbWFya2VyX2IzMjNhNDA1ZGY0YTQzZjE4OGRkNWY3ZTVjNmEwZjY1ID0gTC5jaXJjbGVNYXJrZXIoCiAgICAgICAgICAgICAgICBbNDMuNzU2MzAzMywgLTc5LjU2NTk2MzI5OTk5OTk5XSwKICAgICAgICAgICAgICAgIHsiYnViYmxpbmdNb3VzZUV2ZW50cyI6IHRydWUsICJjb2xvciI6ICJibHVlIiwgImRhc2hBcnJheSI6IG51bGwsICJkYXNoT2Zmc2V0IjogbnVsbCwgImZpbGwiOiB0cnVlLCAiZmlsbENvbG9yIjogIiMzMTg2Y2MiLCAiZmlsbE9wYWNpdHkiOiAwLjcsICJmaWxsUnVsZSI6ICJldmVub2RkIiwgImxpbmVDYXAiOiAicm91bmQiLCAibGluZUpvaW4iOiAicm91bmQiLCAib3BhY2l0eSI6IDEuMCwgInJhZGl1cyI6IDUsICJzdHJva2UiOiB0cnVlLCAid2VpZ2h0IjogM30KICAgICAgICAgICAgKS5hZGRUbyhtYXBfYzExMzhlNzAwNzAzNGQ2NTgxNmQ5Yzg4OTJhMzVjNTcpOwogICAgICAgIAogICAgCiAgICAgICAgdmFyIHBvcHVwX2VjN2QzNjI0ZmVkMTQ1NTNhMmExOTE0YzZiYmQzZmRlID0gTC5wb3B1cCh7Im1heFdpZHRoIjogIjEwMCUifSk7CgogICAgICAgIAogICAgICAgICAgICB2YXIgaHRtbF9mYmRmOTE2N2Y4MDA0MmZmODMxMmU5NGE1NDlmNzhjZSA9ICQoYDxkaXYgaWQ9Imh0bWxfZmJkZjkxNjdmODAwNDJmZjgzMTJlOTRhNTQ5Zjc4Y2UiIHN0eWxlPSJ3aWR0aDogMTAwLjAlOyBoZWlnaHQ6IDEwMC4wJTsiPkh1bWJlciBTdW1taXQsIE5vcnRoIFlvcms8L2Rpdj5gKVswXTsKICAgICAgICAgICAgcG9wdXBfZWM3ZDM2MjRmZWQxNDU1M2EyYTE5MTRjNmJiZDNmZGUuc2V0Q29udGVudChodG1sX2ZiZGY5MTY3ZjgwMDQyZmY4MzEyZTk0YTU0OWY3OGNlKTsKICAgICAgICAKCiAgICAgICAgY2lyY2xlX21hcmtlcl9iMzIzYTQwNWRmNGE0M2YxODhkZDVmN2U1YzZhMGY2NS5iaW5kUG9wdXAocG9wdXBfZWM3ZDM2MjRmZWQxNDU1M2EyYTE5MTRjNmJiZDNmZGUpCiAgICAgICAgOwoKICAgICAgICAKICAgIAogICAgCiAgICAgICAgICAgIHZhciBjaXJjbGVfbWFya2VyXzFiNjZjMGVkN2QzYTQ5NWY4YTFkNTA4NGM1NjdjYWU4ID0gTC5jaXJjbGVNYXJrZXIoCiAgICAgICAgICAgICAgICBbNDMuNzg5MDUzLCAtNzkuNDA4NDkyNzk5OTk5OTldLAogICAgICAgICAgICAgICAgeyJidWJibGluZ01vdXNlRXZlbnRzIjogdHJ1ZSwgImNvbG9yIjogImJsdWUiLCAiZGFzaEFycmF5IjogbnVsbCwgImRhc2hPZmZzZXQiOiBudWxsLCAiZmlsbCI6IHRydWUsICJmaWxsQ29sb3IiOiAiIzMxODZjYyIsICJmaWxsT3BhY2l0eSI6IDAuNywgImZpbGxSdWxlIjogImV2ZW5vZGQiLCAibGluZUNhcCI6ICJyb3VuZCIsICJsaW5lSm9pbiI6ICJyb3VuZCIsICJvcGFjaXR5IjogMS4wLCAicmFkaXVzIjogNSwgInN0cm9rZSI6IHRydWUsICJ3ZWlnaHQiOiAzfQogICAgICAgICAgICApLmFkZFRvKG1hcF9jMTEzOGU3MDA3MDM0ZDY1ODE2ZDljODg5MmEzNWM1Nyk7CiAgICAgICAgCiAgICAKICAgICAgICB2YXIgcG9wdXBfNDc2ZDI2YTY4MmY0NGYyZjllNmM2MTA2YWRkMjFhYWYgPSBMLnBvcHVwKHsibWF4V2lkdGgiOiAiMTAwJSJ9KTsKCiAgICAgICAgCiAgICAgICAgICAgIHZhciBodG1sX2JhODdiZWNjMzY4MzQxYzg4MWRkY2VjNWZlOGQ2MzYyID0gJChgPGRpdiBpZD0iaHRtbF9iYTg3YmVjYzM2ODM0MWM4ODFkZGNlYzVmZThkNjM2MiIgc3R5bGU9IndpZHRoOiAxMDAuMCU7IGhlaWdodDogMTAwLjAlOyI+V2lsbG93ZGFsZSwgTmV3dG9uYnJvb2ssIE5vcnRoIFlvcms8L2Rpdj5gKVswXTsKICAgICAgICAgICAgcG9wdXBfNDc2ZDI2YTY4MmY0NGYyZjllNmM2MTA2YWRkMjFhYWYuc2V0Q29udGVudChodG1sX2JhODdiZWNjMzY4MzQxYzg4MWRkY2VjNWZlOGQ2MzYyKTsKICAgICAgICAKCiAgICAgICAgY2lyY2xlX21hcmtlcl8xYjY2YzBlZDdkM2E0OTVmOGExZDUwODRjNTY3Y2FlOC5iaW5kUG9wdXAocG9wdXBfNDc2ZDI2YTY4MmY0NGYyZjllNmM2MTA2YWRkMjFhYWYpCiAgICAgICAgOwoKICAgICAgICAKICAgIAogICAgCiAgICAgICAgICAgIHZhciBjaXJjbGVfbWFya2VyXzEyZTQ3ZjkyNWY3ZTQ0ZjA4OWNmMjI5NTY5NGRiMTg5ID0gTC5jaXJjbGVNYXJrZXIoCiAgICAgICAgICAgICAgICBbNDMuNzI4NDk2NCwgLTc5LjQ5NTY5NzQwMDAwMDAxXSwKICAgICAgICAgICAgICAgIHsiYnViYmxpbmdNb3VzZUV2ZW50cyI6IHRydWUsICJjb2xvciI6ICJibHVlIiwgImRhc2hBcnJheSI6IG51bGwsICJkYXNoT2Zmc2V0IjogbnVsbCwgImZpbGwiOiB0cnVlLCAiZmlsbENvbG9yIjogIiMzMTg2Y2MiLCAiZmlsbE9wYWNpdHkiOiAwLjcsICJmaWxsUnVsZSI6ICJldmVub2RkIiwgImxpbmVDYXAiOiAicm91bmQiLCAibGluZUpvaW4iOiAicm91bmQiLCAib3BhY2l0eSI6IDEuMCwgInJhZGl1cyI6IDUsICJzdHJva2UiOiB0cnVlLCAid2VpZ2h0IjogM30KICAgICAgICAgICAgKS5hZGRUbyhtYXBfYzExMzhlNzAwNzAzNGQ2NTgxNmQ5Yzg4OTJhMzVjNTcpOwogICAgICAgIAogICAgCiAgICAgICAgdmFyIHBvcHVwX2JkZDViMzcyZDE4ZDQ4Nzc4MzU4OTdlMTFlNTQyNzA2ID0gTC5wb3B1cCh7Im1heFdpZHRoIjogIjEwMCUifSk7CgogICAgICAgIAogICAgICAgICAgICB2YXIgaHRtbF9iNTk0OGQ2MDhhNzk0ODBmOGQyYTYxODRjMTc5NTYxZSA9ICQoYDxkaXYgaWQ9Imh0bWxfYjU5NDhkNjA4YTc5NDgwZjhkMmE2MTg0YzE3OTU2MWUiIHN0eWxlPSJ3aWR0aDogMTAwLjAlOyBoZWlnaHQ6IDEwMC4wJTsiPkRvd25zdmlldywgTm9ydGggWW9yazwvZGl2PmApWzBdOwogICAgICAgICAgICBwb3B1cF9iZGQ1YjM3MmQxOGQ0ODc3ODM1ODk3ZTExZTU0MjcwNi5zZXRDb250ZW50KGh0bWxfYjU5NDhkNjA4YTc5NDgwZjhkMmE2MTg0YzE3OTU2MWUpOwogICAgICAgIAoKICAgICAgICBjaXJjbGVfbWFya2VyXzEyZTQ3ZjkyNWY3ZTQ0ZjA4OWNmMjI5NTY5NGRiMTg5LmJpbmRQb3B1cChwb3B1cF9iZGQ1YjM3MmQxOGQ0ODc3ODM1ODk3ZTExZTU0MjcwNikKICAgICAgICA7CgogICAgICAgIAogICAgCiAgICAKICAgICAgICAgICAgdmFyIGNpcmNsZV9tYXJrZXJfNDUyNDViMjg5ZjViNDZjNDgzMTMwMmQxOTYzMzdiZDcgPSBMLmNpcmNsZU1hcmtlcigKICAgICAgICAgICAgICAgIFs0My43MzMyODI1LCAtNzkuNDE5NzQ5N10sCiAgICAgICAgICAgICAgICB7ImJ1YmJsaW5nTW91c2VFdmVudHMiOiB0cnVlLCAiY29sb3IiOiAiYmx1ZSIsICJkYXNoQXJyYXkiOiBudWxsLCAiZGFzaE9mZnNldCI6IG51bGwsICJmaWxsIjogdHJ1ZSwgImZpbGxDb2xvciI6ICIjMzE4NmNjIiwgImZpbGxPcGFjaXR5IjogMC43LCAiZmlsbFJ1bGUiOiAiZXZlbm9kZCIsICJsaW5lQ2FwIjogInJvdW5kIiwgImxpbmVKb2luIjogInJvdW5kIiwgIm9wYWNpdHkiOiAxLjAsICJyYWRpdXMiOiA1LCAic3Ryb2tlIjogdHJ1ZSwgIndlaWdodCI6IDN9CiAgICAgICAgICAgICkuYWRkVG8obWFwX2MxMTM4ZTcwMDcwMzRkNjU4MTZkOWM4ODkyYTM1YzU3KTsKICAgICAgICAKICAgIAogICAgICAgIHZhciBwb3B1cF9hYzU2MjA3OTZlYTg0NjhkYTJmMTlkNzU2MGY0ZDY3ZSA9IEwucG9wdXAoeyJtYXhXaWR0aCI6ICIxMDAlIn0pOwoKICAgICAgICAKICAgICAgICAgICAgdmFyIGh0bWxfNDkxYjc0MGJiNjExNGQxODg1YjMxNDA3ZjJiOTY0NWQgPSAkKGA8ZGl2IGlkPSJodG1sXzQ5MWI3NDBiYjYxMTRkMTg4NWIzMTQwN2YyYjk2NDVkIiBzdHlsZT0id2lkdGg6IDEwMC4wJTsgaGVpZ2h0OiAxMDAuMCU7Ij5CZWRmb3JkIFBhcmssIExhd3JlbmNlIE1hbm9yIEVhc3QsIE5vcnRoIFlvcms8L2Rpdj5gKVswXTsKICAgICAgICAgICAgcG9wdXBfYWM1NjIwNzk2ZWE4NDY4ZGEyZjE5ZDc1NjBmNGQ2N2Uuc2V0Q29udGVudChodG1sXzQ5MWI3NDBiYjYxMTRkMTg4NWIzMTQwN2YyYjk2NDVkKTsKICAgICAgICAKCiAgICAgICAgY2lyY2xlX21hcmtlcl80NTI0NWIyODlmNWI0NmM0ODMxMzAyZDE5NjMzN2JkNy5iaW5kUG9wdXAocG9wdXBfYWM1NjIwNzk2ZWE4NDY4ZGEyZjE5ZDc1NjBmNGQ2N2UpCiAgICAgICAgOwoKICAgICAgICAKICAgIAogICAgCiAgICAgICAgICAgIHZhciBjaXJjbGVfbWFya2VyXzVkN2ExZjJkMGJmNzQ3ODViZDgyOWEzNmRhYmM2YzE1ID0gTC5jaXJjbGVNYXJrZXIoCiAgICAgICAgICAgICAgICBbNDMuNjkxMTE1OCwgLTc5LjQ3NjAxMzI5OTk5OTk5XSwKICAgICAgICAgICAgICAgIHsiYnViYmxpbmdNb3VzZUV2ZW50cyI6IHRydWUsICJjb2xvciI6ICJibHVlIiwgImRhc2hBcnJheSI6IG51bGwsICJkYXNoT2Zmc2V0IjogbnVsbCwgImZpbGwiOiB0cnVlLCAiZmlsbENvbG9yIjogIiMzMTg2Y2MiLCAiZmlsbE9wYWNpdHkiOiAwLjcsICJmaWxsUnVsZSI6ICJldmVub2RkIiwgImxpbmVDYXAiOiAicm91bmQiLCAibGluZUpvaW4iOiAicm91bmQiLCAib3BhY2l0eSI6IDEuMCwgInJhZGl1cyI6IDUsICJzdHJva2UiOiB0cnVlLCAid2VpZ2h0IjogM30KICAgICAgICAgICAgKS5hZGRUbyhtYXBfYzExMzhlNzAwNzAzNGQ2NTgxNmQ5Yzg4OTJhMzVjNTcpOwogICAgICAgIAogICAgCiAgICAgICAgdmFyIHBvcHVwXzkxYzA2NTYwYTI1NDQwZjRhNDVhZWIxYWNjNGM3MTRkID0gTC5wb3B1cCh7Im1heFdpZHRoIjogIjEwMCUifSk7CgogICAgICAgIAogICAgICAgICAgICB2YXIgaHRtbF84YmZjODY1MjVkNTc0NWRiYWVlNDM2MGM2MDIyMmQyYiA9ICQoYDxkaXYgaWQ9Imh0bWxfOGJmYzg2NTI1ZDU3NDVkYmFlZTQzNjBjNjAyMjJkMmIiIHN0eWxlPSJ3aWR0aDogMTAwLjAlOyBoZWlnaHQ6IDEwMC4wJTsiPkRlbCBSYXksIE1vdW50IERlbm5pcywgS2VlbHNkYWxlIGFuZCBTaWx2ZXJ0aG9ybiwgWW9yazwvZGl2PmApWzBdOwogICAgICAgICAgICBwb3B1cF85MWMwNjU2MGEyNTQ0MGY0YTQ1YWViMWFjYzRjNzE0ZC5zZXRDb250ZW50KGh0bWxfOGJmYzg2NTI1ZDU3NDVkYmFlZTQzNjBjNjAyMjJkMmIpOwogICAgICAgIAoKICAgICAgICBjaXJjbGVfbWFya2VyXzVkN2ExZjJkMGJmNzQ3ODViZDgyOWEzNmRhYmM2YzE1LmJpbmRQb3B1cChwb3B1cF85MWMwNjU2MGEyNTQ0MGY0YTQ1YWViMWFjYzRjNzE0ZCkKICAgICAgICA7CgogICAgICAgIAogICAgCiAgICAKICAgICAgICAgICAgdmFyIGNpcmNsZV9tYXJrZXJfN2M3MTE3NzJhNDQyNDU0M2I5MDU1ZmY2YTI2ZDUzMDIgPSBMLmNpcmNsZU1hcmtlcigKICAgICAgICAgICAgICAgIFs0My43MjQ3NjU5LCAtNzkuNTMyMjQyNDAwMDAwMDJdLAogICAgICAgICAgICAgICAgeyJidWJibGluZ01vdXNlRXZlbnRzIjogdHJ1ZSwgImNvbG9yIjogImJsdWUiLCAiZGFzaEFycmF5IjogbnVsbCwgImRhc2hPZmZzZXQiOiBudWxsLCAiZmlsbCI6IHRydWUsICJmaWxsQ29sb3IiOiAiIzMxODZjYyIsICJmaWxsT3BhY2l0eSI6IDAuNywgImZpbGxSdWxlIjogImV2ZW5vZGQiLCAibGluZUNhcCI6ICJyb3VuZCIsICJsaW5lSm9pbiI6ICJyb3VuZCIsICJvcGFjaXR5IjogMS4wLCAicmFkaXVzIjogNSwgInN0cm9rZSI6IHRydWUsICJ3ZWlnaHQiOiAzfQogICAgICAgICAgICApLmFkZFRvKG1hcF9jMTEzOGU3MDA3MDM0ZDY1ODE2ZDljODg5MmEzNWM1Nyk7CiAgICAgICAgCiAgICAKICAgICAgICB2YXIgcG9wdXBfMjgwMmIyNDNkNjFlNDc1OGFhYTg1NmQ4YzMxYzBlOWEgPSBMLnBvcHVwKHsibWF4V2lkdGgiOiAiMTAwJSJ9KTsKCiAgICAgICAgCiAgICAgICAgICAgIHZhciBodG1sXzBlOWU1M2QyMTRlMzQ0YTJiODNlMzdlMDExZWI5MzA3ID0gJChgPGRpdiBpZD0iaHRtbF8wZTllNTNkMjE0ZTM0NGEyYjgzZTM3ZTAxMWViOTMwNyIgc3R5bGU9IndpZHRoOiAxMDAuMCU7IGhlaWdodDogMTAwLjAlOyI+SHVtYmVybGVhLCBFbWVyeSwgTm9ydGggWW9yazwvZGl2PmApWzBdOwogICAgICAgICAgICBwb3B1cF8yODAyYjI0M2Q2MWU0NzU4YWFhODU2ZDhjMzFjMGU5YS5zZXRDb250ZW50KGh0bWxfMGU5ZTUzZDIxNGUzNDRhMmI4M2UzN2UwMTFlYjkzMDcpOwogICAgICAgIAoKICAgICAgICBjaXJjbGVfbWFya2VyXzdjNzExNzcyYTQ0MjQ1NDNiOTA1NWZmNmEyNmQ1MzAyLmJpbmRQb3B1cChwb3B1cF8yODAyYjI0M2Q2MWU0NzU4YWFhODU2ZDhjMzFjMGU5YSkKICAgICAgICA7CgogICAgICAgIAogICAgCiAgICAKICAgICAgICAgICAgdmFyIGNpcmNsZV9tYXJrZXJfN2ZkMTdjNDc0OGQ3NGU3NDg5Y2NmYmM0ZWI0MDE3ZjggPSBMLmNpcmNsZU1hcmtlcigKICAgICAgICAgICAgICAgIFs0My43NzAxMTk5LCAtNzkuNDA4NDkyNzk5OTk5OTldLAogICAgICAgICAgICAgICAgeyJidWJibGluZ01vdXNlRXZlbnRzIjogdHJ1ZSwgImNvbG9yIjogImJsdWUiLCAiZGFzaEFycmF5IjogbnVsbCwgImRhc2hPZmZzZXQiOiBudWxsLCAiZmlsbCI6IHRydWUsICJmaWxsQ29sb3IiOiAiIzMxODZjYyIsICJmaWxsT3BhY2l0eSI6IDAuNywgImZpbGxSdWxlIjogImV2ZW5vZGQiLCAibGluZUNhcCI6ICJyb3VuZCIsICJsaW5lSm9pbiI6ICJyb3VuZCIsICJvcGFjaXR5IjogMS4wLCAicmFkaXVzIjogNSwgInN0cm9rZSI6IHRydWUsICJ3ZWlnaHQiOiAzfQogICAgICAgICAgICApLmFkZFRvKG1hcF9jMTEzOGU3MDA3MDM0ZDY1ODE2ZDljODg5MmEzNWM1Nyk7CiAgICAgICAgCiAgICAKICAgICAgICB2YXIgcG9wdXBfZDg3YTIwZGI5ZmUyNDJkMjhmZmI1MTY5OWYyOWI3ZGUgPSBMLnBvcHVwKHsibWF4V2lkdGgiOiAiMTAwJSJ9KTsKCiAgICAgICAgCiAgICAgICAgICAgIHZhciBodG1sX2I5OTdlYTBmZmM3NTQyNjM4NWJmMjc1ZDJmNmY3NzgzID0gJChgPGRpdiBpZD0iaHRtbF9iOTk3ZWEwZmZjNzU0MjYzODViZjI3NWQyZjZmNzc4MyIgc3R5bGU9IndpZHRoOiAxMDAuMCU7IGhlaWdodDogMTAwLjAlOyI+V2lsbG93ZGFsZSwgV2lsbG93ZGFsZSBFYXN0LCBOb3J0aCBZb3JrPC9kaXY+YClbMF07CiAgICAgICAgICAgIHBvcHVwX2Q4N2EyMGRiOWZlMjQyZDI4ZmZiNTE2OTlmMjliN2RlLnNldENvbnRlbnQoaHRtbF9iOTk3ZWEwZmZjNzU0MjYzODViZjI3NWQyZjZmNzc4Myk7CiAgICAgICAgCgogICAgICAgIGNpcmNsZV9tYXJrZXJfN2ZkMTdjNDc0OGQ3NGU3NDg5Y2NmYmM0ZWI0MDE3ZjguYmluZFBvcHVwKHBvcHVwX2Q4N2EyMGRiOWZlMjQyZDI4ZmZiNTE2OTlmMjliN2RlKQogICAgICAgIDsKCiAgICAgICAgCiAgICAKICAgIAogICAgICAgICAgICB2YXIgY2lyY2xlX21hcmtlcl8zNTljYzY0OWJkMDQ0OGE3YmJkNTcyZjYwNmI5YTRkOCA9IEwuY2lyY2xlTWFya2VyKAogICAgICAgICAgICAgICAgWzQzLjc2MTYzMTMsIC03OS41MjA5OTk0MDAwMDAwMV0sCiAgICAgICAgICAgICAgICB7ImJ1YmJsaW5nTW91c2VFdmVudHMiOiB0cnVlLCAiY29sb3IiOiAiYmx1ZSIsICJkYXNoQXJyYXkiOiBudWxsLCAiZGFzaE9mZnNldCI6IG51bGwsICJmaWxsIjogdHJ1ZSwgImZpbGxDb2xvciI6ICIjMzE4NmNjIiwgImZpbGxPcGFjaXR5IjogMC43LCAiZmlsbFJ1bGUiOiAiZXZlbm9kZCIsICJsaW5lQ2FwIjogInJvdW5kIiwgImxpbmVKb2luIjogInJvdW5kIiwgIm9wYWNpdHkiOiAxLjAsICJyYWRpdXMiOiA1LCAic3Ryb2tlIjogdHJ1ZSwgIndlaWdodCI6IDN9CiAgICAgICAgICAgICkuYWRkVG8obWFwX2MxMTM4ZTcwMDcwMzRkNjU4MTZkOWM4ODkyYTM1YzU3KTsKICAgICAgICAKICAgIAogICAgICAgIHZhciBwb3B1cF8wMmQ4ZTRkMjQzMzI0ZDkyODZiN2I2ZjIzNTcyNmFkZSA9IEwucG9wdXAoeyJtYXhXaWR0aCI6ICIxMDAlIn0pOwoKICAgICAgICAKICAgICAgICAgICAgdmFyIGh0bWxfMDc2NzdhNjc5ZGQxNGYxZDk5ZjVmYWRmYTA0OWMwY2EgPSAkKGA8ZGl2IGlkPSJodG1sXzA3Njc3YTY3OWRkMTRmMWQ5OWY1ZmFkZmEwNDljMGNhIiBzdHlsZT0id2lkdGg6IDEwMC4wJTsgaGVpZ2h0OiAxMDAuMCU7Ij5Eb3duc3ZpZXcsIE5vcnRoIFlvcms8L2Rpdj5gKVswXTsKICAgICAgICAgICAgcG9wdXBfMDJkOGU0ZDI0MzMyNGQ5Mjg2YjdiNmYyMzU3MjZhZGUuc2V0Q29udGVudChodG1sXzA3Njc3YTY3OWRkMTRmMWQ5OWY1ZmFkZmEwNDljMGNhKTsKICAgICAgICAKCiAgICAgICAgY2lyY2xlX21hcmtlcl8zNTljYzY0OWJkMDQ0OGE3YmJkNTcyZjYwNmI5YTRkOC5iaW5kUG9wdXAocG9wdXBfMDJkOGU0ZDI0MzMyNGQ5Mjg2YjdiNmYyMzU3MjZhZGUpCiAgICAgICAgOwoKICAgICAgICAKICAgIAogICAgCiAgICAgICAgICAgIHZhciBjaXJjbGVfbWFya2VyX2FkZDYyOGVhODljMjQwZmI4MjViYzMxODJjNjRjNDNiID0gTC5jaXJjbGVNYXJrZXIoCiAgICAgICAgICAgICAgICBbNDMuNjczMTg1Mjk5OTk5OTksIC03OS40ODcyNjE5MDAwMDAwMV0sCiAgICAgICAgICAgICAgICB7ImJ1YmJsaW5nTW91c2VFdmVudHMiOiB0cnVlLCAiY29sb3IiOiAiYmx1ZSIsICJkYXNoQXJyYXkiOiBudWxsLCAiZGFzaE9mZnNldCI6IG51bGwsICJmaWxsIjogdHJ1ZSwgImZpbGxDb2xvciI6ICIjMzE4NmNjIiwgImZpbGxPcGFjaXR5IjogMC43LCAiZmlsbFJ1bGUiOiAiZXZlbm9kZCIsICJsaW5lQ2FwIjogInJvdW5kIiwgImxpbmVKb2luIjogInJvdW5kIiwgIm9wYWNpdHkiOiAxLjAsICJyYWRpdXMiOiA1LCAic3Ryb2tlIjogdHJ1ZSwgIndlaWdodCI6IDN9CiAgICAgICAgICAgICkuYWRkVG8obWFwX2MxMTM4ZTcwMDcwMzRkNjU4MTZkOWM4ODkyYTM1YzU3KTsKICAgICAgICAKICAgIAogICAgICAgIHZhciBwb3B1cF9mZTAzOWZmNGRmZDM0ZmZhOGZhNjQ5MDVmMGE4OWYyNyA9IEwucG9wdXAoeyJtYXhXaWR0aCI6ICIxMDAlIn0pOwoKICAgICAgICAKICAgICAgICAgICAgdmFyIGh0bWxfOTUzYWYwMzJiZDZhNGE3YTg1YzBlOWE5Y2NmZTFhZGYgPSAkKGA8ZGl2IGlkPSJodG1sXzk1M2FmMDMyYmQ2YTRhN2E4NWMwZTlhOWNjZmUxYWRmIiBzdHlsZT0id2lkdGg6IDEwMC4wJTsgaGVpZ2h0OiAxMDAuMCU7Ij5SdW5ueW1lZGUsIFRoZSBKdW5jdGlvbiBOb3J0aCwgWW9yazwvZGl2PmApWzBdOwogICAgICAgICAgICBwb3B1cF9mZTAzOWZmNGRmZDM0ZmZhOGZhNjQ5MDVmMGE4OWYyNy5zZXRDb250ZW50KGh0bWxfOTUzYWYwMzJiZDZhNGE3YTg1YzBlOWE5Y2NmZTFhZGYpOwogICAgICAgIAoKICAgICAgICBjaXJjbGVfbWFya2VyX2FkZDYyOGVhODljMjQwZmI4MjViYzMxODJjNjRjNDNiLmJpbmRQb3B1cChwb3B1cF9mZTAzOWZmNGRmZDM0ZmZhOGZhNjQ5MDVmMGE4OWYyNykKICAgICAgICA7CgogICAgICAgIAogICAgCiAgICAKICAgICAgICAgICAgdmFyIGNpcmNsZV9tYXJrZXJfNzU1MmNlM2UyMTk1NGYwNGJhNGVhYzM5ZjM1ZTQ5NDMgPSBMLmNpcmNsZU1hcmtlcigKICAgICAgICAgICAgICAgIFs0My43MDY4NzYsIC03OS41MTgxODg0MDAwMDAwMV0sCiAgICAgICAgICAgICAgICB7ImJ1YmJsaW5nTW91c2VFdmVudHMiOiB0cnVlLCAiY29sb3IiOiAiYmx1ZSIsICJkYXNoQXJyYXkiOiBudWxsLCAiZGFzaE9mZnNldCI6IG51bGwsICJmaWxsIjogdHJ1ZSwgImZpbGxDb2xvciI6ICIjMzE4NmNjIiwgImZpbGxPcGFjaXR5IjogMC43LCAiZmlsbFJ1bGUiOiAiZXZlbm9kZCIsICJsaW5lQ2FwIjogInJvdW5kIiwgImxpbmVKb2luIjogInJvdW5kIiwgIm9wYWNpdHkiOiAxLjAsICJyYWRpdXMiOiA1LCAic3Ryb2tlIjogdHJ1ZSwgIndlaWdodCI6IDN9CiAgICAgICAgICAgICkuYWRkVG8obWFwX2MxMTM4ZTcwMDcwMzRkNjU4MTZkOWM4ODkyYTM1YzU3KTsKICAgICAgICAKICAgIAogICAgICAgIHZhciBwb3B1cF9hNTdiYmRlYjNiMzY0NDgwYWIzYjAyNWYxNzlhMzJkYiA9IEwucG9wdXAoeyJtYXhXaWR0aCI6ICIxMDAlIn0pOwoKICAgICAgICAKICAgICAgICAgICAgdmFyIGh0bWxfZjVkNWYxNjNkN2JmNDEyNWIzOWRmZjIzNzUwYjEyNDQgPSAkKGA8ZGl2IGlkPSJodG1sX2Y1ZDVmMTYzZDdiZjQxMjViMzlkZmYyMzc1MGIxMjQ0IiBzdHlsZT0id2lkdGg6IDEwMC4wJTsgaGVpZ2h0OiAxMDAuMCU7Ij5XZXN0b24sIFlvcms8L2Rpdj5gKVswXTsKICAgICAgICAgICAgcG9wdXBfYTU3YmJkZWIzYjM2NDQ4MGFiM2IwMjVmMTc5YTMyZGIuc2V0Q29udGVudChodG1sX2Y1ZDVmMTYzZDdiZjQxMjViMzlkZmYyMzc1MGIxMjQ0KTsKICAgICAgICAKCiAgICAgICAgY2lyY2xlX21hcmtlcl83NTUyY2UzZTIxOTU0ZjA0YmE0ZWFjMzlmMzVlNDk0My5iaW5kUG9wdXAocG9wdXBfYTU3YmJkZWIzYjM2NDQ4MGFiM2IwMjVmMTc5YTMyZGIpCiAgICAgICAgOwoKICAgICAgICAKICAgIAogICAgCiAgICAgICAgICAgIHZhciBjaXJjbGVfbWFya2VyX2ZjNWI3NjhiMjA3YjQwODU4ZTE3NTE2Y2Y1ZTA1YTVhID0gTC5jaXJjbGVNYXJrZXIoCiAgICAgICAgICAgICAgICBbNDMuNzUyNzU4Mjk5OTk5OTk2LCAtNzkuNDAwMDQ5M10sCiAgICAgICAgICAgICAgICB7ImJ1YmJsaW5nTW91c2VFdmVudHMiOiB0cnVlLCAiY29sb3IiOiAiYmx1ZSIsICJkYXNoQXJyYXkiOiBudWxsLCAiZGFzaE9mZnNldCI6IG51bGwsICJmaWxsIjogdHJ1ZSwgImZpbGxDb2xvciI6ICIjMzE4NmNjIiwgImZpbGxPcGFjaXR5IjogMC43LCAiZmlsbFJ1bGUiOiAiZXZlbm9kZCIsICJsaW5lQ2FwIjogInJvdW5kIiwgImxpbmVKb2luIjogInJvdW5kIiwgIm9wYWNpdHkiOiAxLjAsICJyYWRpdXMiOiA1LCAic3Ryb2tlIjogdHJ1ZSwgIndlaWdodCI6IDN9CiAgICAgICAgICAgICkuYWRkVG8obWFwX2MxMTM4ZTcwMDcwMzRkNjU4MTZkOWM4ODkyYTM1YzU3KTsKICAgICAgICAKICAgIAogICAgICAgIHZhciBwb3B1cF81YjhkMTlkODA2MzA0OTM0OTc0NzExZjIxODE5NGE2ZiA9IEwucG9wdXAoeyJtYXhXaWR0aCI6ICIxMDAlIn0pOwoKICAgICAgICAKICAgICAgICAgICAgdmFyIGh0bWxfMTFmODQ2ZmVhN2VmNGFmNGJmOTI0MTFlYjZjNDY4ODYgPSAkKGA8ZGl2IGlkPSJodG1sXzExZjg0NmZlYTdlZjRhZjRiZjkyNDExZWI2YzQ2ODg2IiBzdHlsZT0id2lkdGg6IDEwMC4wJTsgaGVpZ2h0OiAxMDAuMCU7Ij5Zb3JrIE1pbGxzIFdlc3QsIE5vcnRoIFlvcms8L2Rpdj5gKVswXTsKICAgICAgICAgICAgcG9wdXBfNWI4ZDE5ZDgwNjMwNDkzNDk3NDcxMWYyMTgxOTRhNmYuc2V0Q29udGVudChodG1sXzExZjg0NmZlYTdlZjRhZjRiZjkyNDExZWI2YzQ2ODg2KTsKICAgICAgICAKCiAgICAgICAgY2lyY2xlX21hcmtlcl9mYzViNzY4YjIwN2I0MDg1OGUxNzUxNmNmNWUwNWE1YS5iaW5kUG9wdXAocG9wdXBfNWI4ZDE5ZDgwNjMwNDkzNDk3NDcxMWYyMTgxOTRhNmYpCiAgICAgICAgOwoKICAgICAgICAKICAgIAogICAgCiAgICAgICAgICAgIHZhciBjaXJjbGVfbWFya2VyX2Q0ZTRhNjg4YjE3ZTQ0ODNiMDZjMzI4MDRkMDZiNzNmID0gTC5jaXJjbGVNYXJrZXIoCiAgICAgICAgICAgICAgICBbNDMuNzgyNzM2NCwgLTc5LjQ0MjI1OTNdLAogICAgICAgICAgICAgICAgeyJidWJibGluZ01vdXNlRXZlbnRzIjogdHJ1ZSwgImNvbG9yIjogImJsdWUiLCAiZGFzaEFycmF5IjogbnVsbCwgImRhc2hPZmZzZXQiOiBudWxsLCAiZmlsbCI6IHRydWUsICJmaWxsQ29sb3IiOiAiIzMxODZjYyIsICJmaWxsT3BhY2l0eSI6IDAuNywgImZpbGxSdWxlIjogImV2ZW5vZGQiLCAibGluZUNhcCI6ICJyb3VuZCIsICJsaW5lSm9pbiI6ICJyb3VuZCIsICJvcGFjaXR5IjogMS4wLCAicmFkaXVzIjogNSwgInN0cm9rZSI6IHRydWUsICJ3ZWlnaHQiOiAzfQogICAgICAgICAgICApLmFkZFRvKG1hcF9jMTEzOGU3MDA3MDM0ZDY1ODE2ZDljODg5MmEzNWM1Nyk7CiAgICAgICAgCiAgICAKICAgICAgICB2YXIgcG9wdXBfMDdiN2ZhNDVkZDAyNDYwY2I5MDQ3NjM2YmVjZmQ2NzMgPSBMLnBvcHVwKHsibWF4V2lkdGgiOiAiMTAwJSJ9KTsKCiAgICAgICAgCiAgICAgICAgICAgIHZhciBodG1sX2MwNzMxMTdjM2Y5ZDQ5MzliZDEzNWUyNDMyMzlmOTNmID0gJChgPGRpdiBpZD0iaHRtbF9jMDczMTE3YzNmOWQ0OTM5YmQxMzVlMjQzMjM5ZjkzZiIgc3R5bGU9IndpZHRoOiAxMDAuMCU7IGhlaWdodDogMTAwLjAlOyI+V2lsbG93ZGFsZSwgV2lsbG93ZGFsZSBXZXN0LCBOb3J0aCBZb3JrPC9kaXY+YClbMF07CiAgICAgICAgICAgIHBvcHVwXzA3YjdmYTQ1ZGQwMjQ2MGNiOTA0NzYzNmJlY2ZkNjczLnNldENvbnRlbnQoaHRtbF9jMDczMTE3YzNmOWQ0OTM5YmQxMzVlMjQzMjM5ZjkzZik7CiAgICAgICAgCgogICAgICAgIGNpcmNsZV9tYXJrZXJfZDRlNGE2ODhiMTdlNDQ4M2IwNmMzMjgwNGQwNmI3M2YuYmluZFBvcHVwKHBvcHVwXzA3YjdmYTQ1ZGQwMjQ2MGNiOTA0NzYzNmJlY2ZkNjczKQogICAgICAgIDsKCiAgICAgICAgCiAgICAKPC9zY3JpcHQ+ onload=\"this.contentDocument.open();this.contentDocument.write(atob(this.getAttribute('data-html')));this.contentDocument.close();\" allowfullscreen webkitallowfullscreen mozallowfullscreen></iframe></div></div>"
      ],
      "text/plain": [
       "<folium.folium.Map at 0x7fc0e7a32e50>"
      ]
     },
     "execution_count": 83,
     "metadata": {},
     "output_type": "execute_result"
    }
   ],
   "source": [
    "# create map of New York using latitude and longitude values\n",
    "map_toronto = folium.Map(location=[latitude, longitude], zoom_start=10)\n",
    "\n",
    "# add markers to map\n",
    "for lat, lng, borough, neighborhood in zip(df_york['Latitude'], df_york['Longitude'], df_york['Borough'], df_york['Neighborhood']):\n",
    "    label = '{}, {}'.format(neighborhood, borough)\n",
    "    label = folium.Popup(label, parse_html=True)\n",
    "    folium.CircleMarker(\n",
    "        [lat, lng],\n",
    "        radius=5,\n",
    "        popup=label,\n",
    "        color='blue',\n",
    "        fill=True,\n",
    "        fill_color='#3186cc',\n",
    "        fill_opacity=0.7,\n",
    "        parse_html=False).add_to(map_toronto)  \n",
    "    \n",
    "map_toronto"
   ]
  }
 ],
 "metadata": {
  "kernelspec": {
   "display_name": "Python 3",
   "language": "python",
   "name": "python3"
  },
  "language_info": {
   "codemirror_mode": {
    "name": "ipython",
    "version": 3
   },
   "file_extension": ".py",
   "mimetype": "text/x-python",
   "name": "python",
   "nbconvert_exporter": "python",
   "pygments_lexer": "ipython3",
   "version": "3.7.6"
  }
 },
 "nbformat": 4,
 "nbformat_minor": 4
}
