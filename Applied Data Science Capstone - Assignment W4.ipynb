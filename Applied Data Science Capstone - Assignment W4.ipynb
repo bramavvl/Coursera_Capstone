{
 "cells": [
  {
   "cell_type": "markdown",
   "metadata": {},
   "source": [
    "# The Battle of Neighborhoods\n",
    "## Singapore Most-liked Tourist Destination\n",
    "By Bram Adrianus, August 2020\n"
   ]
  },
  {
   "cell_type": "markdown",
   "metadata": {},
   "source": [
    "### 1. Intoduction/Business Problem"
   ]
  },
  {
   "attachments": {},
   "cell_type": "markdown",
   "metadata": {},
   "source": [
    "Tourism in Singapore is a major industry and contributor to the Singaporean economy, attracting 17.4 million international tourists in 2017, **more than 3 times of Singapore's total population**. It is also environmentally friendly, and maintains natural and heritage conservation programs. Along with this, it also has one of the world's lowest crime rates. As English is the dominant one of its four official languages, it is generally easier for tourists to understand when speaking to the local population of the country, for example, when shopping. Transport in Singapore exhaustively covers most, if not all public venues in Singapore, which increases convenience for tourists. This includes the well-known Mass Rapid Transit (MRT) system. Singapore is the 5th most visited city in the world, and 2nd in Asia-Pacific.\n",
    "\n",
    "<a href=\"https://ibb.co/QmjXtrj\"><img src=\"https://i.ibb.co/ggF6hzF/Screen-Shot-2020-08-09-at-23-49-57.png\" alt=\"Screen-Shot-2020-08-09-at-23-49-57\" border=\"0\"></a>\n",
    "\n",
    "According to the fact that Tourism is one of Singapore's economy backbone, through this capstone we will analyze and show most liked venues in Singapore divided by Singapore plan area as shown on the map above. This capstone project will help enterpreneurs or any tourism related stakeholders to know which plan area has most likes in Foursquare, or maybe which area that the tourism services need to be improved, because sometime the deficiency is a new gold for business enterpreneurs. Singapore, as tourism country, actually has planned their plan area for specific functions, like business district, park, residential area, industrial area, and etc. Using foursquare data statistic and unsupervised machine learning to cluster the country, maybe later we can also check whether each plan area actually contains specific venues for locals or tourists. "
   ]
  },
  {
   "cell_type": "markdown",
   "metadata": {},
   "source": [
    "### 2. Data Section"
   ]
  },
  {
   "cell_type": "markdown",
   "metadata": {},
   "source": [
    "To analyze and get understanding of each singapore plan area, of course, we will need several data from free data providers, mostly I will use API services as because the data accuracy will always be updated if we want to use this analysis another time. \n",
    "\n",
    "#### 2.1 OneMap API -- https://docs.onemap.sg/#introduction\n",
    "\n",
    "This API service is created by Singapore Land Authority the geospatial agency of Singapore. This API is free and for health of API they limit only 250 calls per minute, this is more than enough. By using this API, I will make a call to list all planning area in Singapore and make it as dataset for further analysis. The url the make the calls is :\n",
    "\n",
    "https://developers.onemap.sg/privateapi/popapi/getPlanningareaNames?token={token}\n",
    "\n",
    "And the token can be obtained by registering to their developer account. \n",
    "Further details to use this planning area API are available through this link :\n",
    "https://docs.onemap.sg/#names-of-planning-area\n",
    "\n",
    "\n",
    "#### 2.2 Geopy Nominatim -- https://geopy.readthedocs.io/en/stable/\n",
    "\n",
    "Geopy is a Python client for several popular geocoding web services. Geopy makes it easy for Python developers to locate the coordinates of addresses, cities, countries, and landmarks across the globe using third-party geocoders and other data sources. The third-party geocoder that being used for this capstone is Nominatim, an open-source geocoding service. Nominatim uses OpenStreetMap data to find locations on Earth by name and address (geocoding). It can also do the reverse, find an address for any location on the planet. Further informations on Nominatim : https://nominatim.org/.\n",
    "\n",
    "So, we will try to get longitudes and latitudes coordinates for each Planning Area in Singapore using this function in Python. Up to this point, we can plot each of planning area in Folium to see the planning area distributions on Singapore Map.\n",
    "\n",
    "#### 2.3 Foursquare - Places API -- https://developer.foursquare.com/\n",
    "\n",
    "The Places API offers real-time access to Foursquare’s global database of rich venue data and user content to power your location-based experiences in your app or website. This API will provide us with venues data and we would also like to know which venues has more likes or which planning area accumulating most likes. By having this data we will then answer the questions of which area is the most liked by locals and tourists in Singapore. \n",
    "\n",
    "To use Foursquare API, I will use personal tier developers account with 99,500 Regular Calls / Day and 500 Premium Calls / Day. To make API calls, actually Foursquare has rich documentations on how to do it and list all functions or data that can be obtained using their API. Please check this link to go to their documentations : https://developer.foursquare.com/docs/places-api/endpoints/\n",
    "\n",
    "On this pre-eliminary stage, for this capstone, I will heavily use 'venues' endpoint group. To be more spcific, I will use [venues/categories](https://developer.foursquare.com/docs/api-reference/venues/categories/) endpoint to get the  list of categories applied to venues of each planning area and [venues/likes](https://developer.foursquare.com/docs/api-reference/venues/likes/) endpoint to get number of users liked the venue. Using another endpoint from Foursquare might be possible for further analysis, but up to this stage I am only sure to use 'likes' and 'categories' endpoints, if it's required I will tell you later.\n",
    "\n",
    "\n",
    "\n"
   ]
  }
 ],
 "metadata": {
  "kernelspec": {
   "display_name": "Python 3",
   "language": "python",
   "name": "python3"
  },
  "language_info": {
   "codemirror_mode": {
    "name": "ipython",
    "version": 3
   },
   "file_extension": ".py",
   "mimetype": "text/x-python",
   "name": "python",
   "nbconvert_exporter": "python",
   "pygments_lexer": "ipython3",
   "version": "3.7.6"
  }
 },
 "nbformat": 4,
 "nbformat_minor": 4
}
